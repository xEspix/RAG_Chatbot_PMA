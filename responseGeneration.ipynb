{
 "cells": [
  {
   "cell_type": "code",
   "execution_count": null,
   "id": "441df05b",
   "metadata": {},
   "outputs": [
    {
     "name": "stdout",
     "output_type": "stream",
     "text": [
      "Pinged your deployment. You successfully connected to MongoDB!\n"
     ]
    }
   ],
   "source": [
    "from pymongo.mongo_client import MongoClient\n",
    "\n",
    "uri = \"mongodb+srv://<user>:<password>@espi.bebf5dd.mongodb.net/?retryWrites=true&w=majority&appName=Espi\"\n",
    "\n",
    "# Create a new client and connect to the server\n",
    "client = MongoClient(uri)\n",
    "\n",
    "# Send a ping to confirm a successful connection\n",
    "try:\n",
    "    client.admin.command('ping')\n",
    "    print(\"Pinged your deployment. You successfully connected to MongoDB!\")\n",
    "except Exception as e:\n",
    "    print(e)"
   ]
  },
  {
   "cell_type": "code",
   "execution_count": 2,
   "id": "0913305c",
   "metadata": {},
   "outputs": [],
   "source": [
    "db=client[\"mytestdb\"]\n",
    "collection=db[\"mytestcollection\"]"
   ]
  },
  {
   "cell_type": "code",
   "execution_count": 6,
   "id": "8ff15015",
   "metadata": {},
   "outputs": [],
   "source": [
    "from langchain_google_genai import ChatGoogleGenerativeAI\n",
    "import os\n",
    "from langchain_core.output_parsers import StrOutputParser\n",
    "from langchain.prompts import PromptTemplate\n",
    "from collections import defaultdict\n",
    "from bson.objectid import ObjectId\n",
    "from langchain.schema import SystemMessage, HumanMessage, AIMessage\n",
    "import re"
   ]
  },
  {
   "cell_type": "code",
   "execution_count": null,
   "id": "e7c4c8db",
   "metadata": {},
   "outputs": [
    {
     "name": "stderr",
     "output_type": "stream",
     "text": [
      "c:\\Users\\suman\\OneDrive\\Desktop\\RAG_Chatbot_PMA\\.venv\\lib\\site-packages\\tqdm\\auto.py:21: TqdmWarning: IProgress not found. Please update jupyter and ipywidgets. See https://ipywidgets.readthedocs.io/en/stable/user_install.html\n",
      "  from .autonotebook import tqdm as notebook_tqdm\n"
     ]
    }
   ],
   "source": [
    "PINECONE_API_KEY=os.environ['PINECONE_API_KEY']\n",
    "from pinecone import Pinecone\n",
    "\n",
    "pc=Pinecone(api_key=PINECONE_API_KEY)\n",
    "index=pc.Index(\"rag-chat-bot\")"
   ]
  },
  {
   "cell_type": "code",
   "execution_count": null,
   "id": "e47c3b0f",
   "metadata": {},
   "outputs": [],
   "source": [
    "GOOGLE_API_KEY=os.environ['GOOGLE_API_KEY']"
   ]
  },
  {
   "cell_type": "code",
   "execution_count": 9,
   "id": "b5ccb92f",
   "metadata": {},
   "outputs": [],
   "source": [
    "from sentence_transformers import SentenceTransformer\n",
    "embedding_model=SentenceTransformer('thenlper/gte-large')"
   ]
  },
  {
   "cell_type": "code",
   "execution_count": null,
   "id": "19b8218e",
   "metadata": {},
   "outputs": [],
   "source": [
    "llm=ChatGoogleGenerativeAI(model=\"gemini-2.5-flash\", google_api_key=GOOGLE_API_KEY)"
   ]
  },
  {
   "cell_type": "code",
   "execution_count": 7,
   "id": "58f710f4",
   "metadata": {},
   "outputs": [],
   "source": [
    "response_metadata: dict[str, list] = defaultdict(list)"
   ]
  },
  {
   "cell_type": "code",
   "execution_count": null,
   "id": "0fb391ff",
   "metadata": {},
   "outputs": [],
   "source": [
    "def get_result(query, similar_result=5):\n",
    "    embedding=embedding_model.encode(query)\n",
    "    embedding=embedding.tolist()\n",
    "\n",
    "    result=index.query(\n",
    "        vector=embedding,\n",
    "        top_k=similar_result,\n",
    "        include_metadata=True,\n",
    "        include_values=False\n",
    "    )\n",
    "\n",
    "    return result\n",
    "\n",
    "def build_context_from_matches(matches: list) -> str:\n",
    "    docs=[]\n",
    "    for m in matches:\n",
    "        doc=collection.find_one({\"_id\": ObjectId(m[\"id\"])})\n",
    "        content=doc.get(\"content\", \"\")\n",
    "        keywords=doc.get(\"keywords\", [])\n",
    "        docs.append(f\"Content: {content}\\nKeywords: {', '.join(keywords)}\")\n",
    "    return \"\\n\\n\".join(docs)\n",
    "\n",
    "def refine_query_with_llm(history: list[HumanMessage|AIMessage], question: str) -> str:\n",
    "    convo=\"\\n\".join(\n",
    "        f\"User: {h.content}\" if isinstance(h, HumanMessage) else f\"Assistant: {h.content}\"\n",
    "        for h in history[-4:]\n",
    "    )\n",
    "    prompt_text=(\n",
    "        \"Given a chat history and the latest user question which might reference context in the chat history,\"\n",
    "        \"formulate a standalone question which can be understood without the chat history.\"\n",
    "        \"Do NOT answer the question, just reformulate it if needed and otherwise return it as is.\\n\\n\"\n",
    "        f\"Chat History:\\n{convo}\\nUser: {question}\\n\\nSearch query:\"\n",
    "    )\n",
    "    response=llm.invoke([HumanMessage(content=prompt_text)])\n",
    "    return response.content.strip()\n",
    "\n",
    "def extract_keywords(text: str) -> list[str]:\n",
    "    links=re.findall(r\"\\[([^]]+)\\]\\([^)]*\\)\", text)\n",
    "    if links:\n",
    "        return links\n",
    "    prompt=(\n",
    "        \"Extract 3–5 keywords (comma-separated) from this answer:\\n\\n\"+text\n",
    "    )\n",
    "    kw_resp=llm.invoke([HumanMessage(content=prompt)]).content\n",
    "    return [k.strip() for k in kw_resp.split(\",\")]"
   ]
  },
  {
   "cell_type": "code",
   "execution_count": null,
   "id": "80870ddf",
   "metadata": {},
   "outputs": [],
   "source": [
    "user_histories: dict[str, list[HumanMessage|AIMessage]]=defaultdict(list)"
   ]
  },
  {
   "cell_type": "code",
   "execution_count": null,
   "id": "935854f6",
   "metadata": {},
   "outputs": [],
   "source": [
    "SYSTEM=SystemMessage(\n",
    "    content=(\n",
    "        '''You are an assistant to answer questions about an AI Internship program.\n",
    "           Basically your job is to make familiar the AI interns with the internship programs and solve their doubts regarding the internship schedule, training documents, programs, certifications and faq.\n",
    "           Use the following pieces of retrieved context and the keywords with the given chat history to answer the question.\n",
    "           Provide the context links wherever necessary from the context.\n",
    "           If you don't know the answer, say that you don't know.\n",
    "        '''\n",
    "))"
   ]
  },
  {
   "cell_type": "code",
   "execution_count": null,
   "id": "7353f452",
   "metadata": {},
   "outputs": [],
   "source": [
    "def ask_question(user_id: str, question: str) -> str:\n",
    "    history=user_histories[user_id]\n",
    "\n",
    "    raw_query=refine_query_with_llm(history, question)\n",
    "\n",
    "    resp=get_result(raw_query, similar_result=5)\n",
    "    context=build_context_from_matches(resp[\"matches\"])\n",
    "\n",
    "    messages=[SYSTEM]+history+[\n",
    "        HumanMessage(content=f\"Context:\\n{context}\\n\\nQuestion: {question}\")\n",
    "    ]\n",
    "\n",
    "    ai_msg: AIMessage=llm.invoke(messages)\n",
    "\n",
    "    keywords=extract_keywords(ai_msg.content)\n",
    "\n",
    "    history.append(HumanMessage(content=question))\n",
    "    history.append(ai_msg)\n",
    "    response_metadata[user_id].append({\n",
    "        \"question\": question,\n",
    "        \"answer\": ai_msg.content,\n",
    "        \"keywords\": keywords\n",
    "    })\n",
    "\n",
    "    return ai_msg.content\n"
   ]
  },
  {
   "cell_type": "code",
   "execution_count": 14,
   "id": "68ff05fc",
   "metadata": {},
   "outputs": [
    {
     "name": "stdout",
     "output_type": "stream",
     "text": [
      "The internship program is planned for 3 months.\n"
     ]
    }
   ],
   "source": [
    "user=\"sumanta\"\n",
    "print(ask_question(user, \"For how many months is the internship program planned?\"))"
   ]
  },
  {
   "cell_type": "code",
   "execution_count": 15,
   "id": "b231dd27",
   "metadata": {},
   "outputs": [
    {
     "name": "stdout",
     "output_type": "stream",
     "text": [
      "Certainly! Here are the detailed weekly planners based on the provided information.\n",
      "\n",
      "Please note there are two types of weekly plans: general intern expectations and a bootcamp schedule. All interns are encouraged to attend mentor office hours, but not the group training sessions for PMs in the bootcamp.\n",
      "\n",
      "### Weekly Intern Expectations (for Designers, Data Scientists & Engineers)\n",
      "\n",
      "**Week 1:**\n",
      "*   **All Interns:**\n",
      "    *   Watch onboarding and learning videos based on your role (Designer or Engineer).\n",
      "        *   [Engineers’ Training Playlist](https://www.youtube.com/playlist?list=PLr7J0CdhrYUvc-pfs9j6sdrjV6iYW-V2q)\n",
      "        *   [Designers’ Training Playlist](https://www.youtube.com/playlist?list=PLr7J0CdhrYUts5UWKgndNWTbf7z54Errl)\n",
      "    *   Make sure to attend Office Hours to speak with mentors to discuss your progress.\n",
      "*   **Engineers:**\n",
      "    *   Choose one of the two products provided in Discord: Discord Rag Chatbot or Job Tracker Agent(s).\n",
      "    *   Join the Discord channel to discuss your chosen assignment.\n",
      "\n",
      "**Week 2:**\n",
      "*   **All Interns:**\n",
      "    *   Continue watching onboarding and learning videos based on your role.\n",
      "        *   [Engineers’ Training Playlist](https://www.youtube.com/playlist?list=PLr7J0CdhrYUvc-pfs9j6sdrjV6iYW-V2q)\n",
      "        *   [Designers’ Training Playlist](https://www.youtube.com/playlist?list=PLr7J0CdhrYUts5UWKgndNWTbf7z54Errl)\n",
      "\n",
      "*(Note: Please look out for Discord messages for exact dates and further weekly expectations beyond Week 2.)*\n",
      "\n",
      "### Full AI PM Bootcamp Schedule (Interns can attend mentor office hours, NOT group training for PMs)\n",
      "\n",
      "**Week 1: AI Product Strategy (GUCCI Framework) and AI Basics**\n",
      "*   June 23, Monday, 8-10pm EST - Group Coaching with Dr. Nancy Li (PMs only)\n",
      "*   July 1st, Tuesday, 8-9pm EST - Office Hours with Apoorva Joshi (All interns can attend)\n",
      "\n",
      "**Week 2: End-to-End AI Product Management**\n",
      "*   June 30, Monday, 8-10pm EST - Group Coaching and office hours with Dr. Nancy Li (PMs only)\n",
      "*   July 6, Sunday, 11am-12pm EST - Office Hours with Apoorva Joshi (All interns can attend)\n",
      "*   July 1st, 10am-12pm EST - Group Project Kickoff: Pitch ideas, and assemble a team of PMs and AI designers (Specific to PMs and AI designers)\n",
      "\n",
      "**Week 3: Existing LLM and AI Models, Trade-offs, and Pricing**\n",
      "*   July 7, Monday 8pm -10pm EST - Group Coaching with Adam Zhu (PMs only)\n",
      "*   July 15, Tuesday 8pm EST - Office Hours with Apoorva Joshi (All interns can attend)\n",
      "\n",
      "**Week 4: Advanced AI and AI Architecture**\n",
      "*   July 14, Monday 8pm EST - 10pm EST - Group Coaching with Adam Zhu (PMs only)\n",
      "*   July 20, Sunday 11am EST- 12pm EST - Office hours with Apoorva Joshi (All interns can attend)\n"
     ]
    }
   ],
   "source": [
    "print(ask_question(user, \"Can you provide me the detailed tabular weekly plannars for this internship program?\"))"
   ]
  },
  {
   "cell_type": "code",
   "execution_count": null,
   "id": "246965b6",
   "metadata": {},
   "outputs": [],
   "source": []
  }
 ],
 "metadata": {
  "kernelspec": {
   "display_name": ".venv",
   "language": "python",
   "name": "python3"
  },
  "language_info": {
   "codemirror_mode": {
    "name": "ipython",
    "version": 3
   },
   "file_extension": ".py",
   "mimetype": "text/x-python",
   "name": "python",
   "nbconvert_exporter": "python",
   "pygments_lexer": "ipython3",
   "version": "3.10.11"
  }
 },
 "nbformat": 4,
 "nbformat_minor": 5
}

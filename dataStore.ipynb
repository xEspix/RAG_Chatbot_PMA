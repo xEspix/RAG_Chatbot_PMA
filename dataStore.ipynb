{
 "cells": [
  {
   "cell_type": "code",
   "execution_count": null,
   "id": "a93499d0",
   "metadata": {},
   "outputs": [
    {
     "name": "stdout",
     "output_type": "stream",
     "text": [
      "Pinged your deployment. You successfully connected to MongoDB!\n"
     ]
    }
   ],
   "source": [
    "from pymongo.mongo_client import MongoClient\n",
    "\n",
    "uri = \"mongodb+srv://<user>:<password>@espi.bebf5dd.mongodb.net/?retryWrites=true&w=majority&appName=Espi\"\n",
    "\n",
    "# Create a new client and connect to the server\n",
    "client = MongoClient(uri)\n",
    "\n",
    "# Send a ping to confirm a successful connection\n",
    "try:\n",
    "    client.admin.command('ping')\n",
    "    print(\"Pinged your deployment. You successfully connected to MongoDB!\")\n",
    "except Exception as e:\n",
    "    print(e)"
   ]
  },
  {
   "cell_type": "code",
   "execution_count": 2,
   "id": "ff795adb",
   "metadata": {},
   "outputs": [],
   "source": [
    "db=client[\"mytestdb\"]\n",
    "collection=db[\"mytestcollection\"]"
   ]
  },
  {
   "cell_type": "code",
   "execution_count": 111,
   "id": "9c3bcafe",
   "metadata": {},
   "outputs": [
    {
     "data": {
      "text/plain": [
       "<pymongo.results.InsertOneResult at 0x1ccd4946f00>"
      ]
     },
     "execution_count": 111,
     "metadata": {},
     "output_type": "execute_result"
    }
   ],
   "source": [
    "collection.insert_one({\"name\": \"3 Idiots\",\n",
    " \"genres\": \"Comedy\",\n",
    " \"rating\": 8.4,\n",
    " \"content\": \"Two friends search for their lost companion and revisit their college days, revealing a bet, a wedding, and secrets.\"})"
   ]
  },
  {
   "cell_type": "code",
   "execution_count": 7,
   "id": "5fc9caf3",
   "metadata": {},
   "outputs": [],
   "source": [
    "from docx import Document as DocxDocument\n",
    "from docx.opc.constants import RELATIONSHIP_TYPE as RT\n",
    "import glob\n",
    "from langchain.schema import Document as LC_Document\n",
    "\n",
    "links=[]\n",
    "\n",
    "def load_docs_one_per_file(folder_path):\n",
    "    docs=[]\n",
    "    for path in glob.glob(folder_path+\"/*.docx\"):\n",
    "        docx=DocxDocument(path)\n",
    "\n",
    "        rels={\n",
    "            rel.rId: rel.target_ref\n",
    "            for rel in docx.part.rels.values()\n",
    "            if rel.reltype==RT.HYPERLINK\n",
    "        }\n",
    "\n",
    "        full_md=[]\n",
    "        for para in docx.paragraphs:\n",
    "            md_text=\"\"\n",
    "            p=para._p\n",
    "            for element in p:\n",
    "                if element.tag.endswith('}hyperlink'):\n",
    "                    rid=element.get('{http://schemas.openxmlformats.org/officeDocument/2006/relationships}id')\n",
    "                    url=rels.get(rid)\n",
    "                    display=''.join(node.text or '' for node in element.iter() if node.tag.endswith('}t'))\n",
    "                    md_text+=f\"[{display}]({url}) \" if url else display\n",
    "                    links.append(md_text)\n",
    "                elif element.tag.endswith('}r'):\n",
    "                    run_text=''.join(node.text or '' for node in element.iter() if node.tag.endswith('}t'))\n",
    "                    md_text+=run_text\n",
    "\n",
    "            if md_text.strip():\n",
    "                full_md.append(md_text)\n",
    "\n",
    "        joined=\"\\n\\n\".join(full_md)\n",
    "        docs.append(LC_Document(page_content=joined,\n",
    "                                metadata={\"source\": path}))\n",
    "    return docs\n",
    "\n",
    "all_docs=load_docs_one_per_file(\"Documents\")\n"
   ]
  },
  {
   "cell_type": "code",
   "execution_count": 2,
   "id": "c33ec507",
   "metadata": {},
   "outputs": [
    {
     "data": {
      "text/plain": [
       "[' [Training for AI Engineers](https://docs.google.com/document/d/1NfmEDyxrJ7Tz7Wq4lAJHx1fQ4bPpM5v07dPTM4pjOsM/edit?usp=sharing) ',\n",
       " '[Training of AI Designer](https://docs.google.com/document/d/1GkGijGY1jLPrmm-MSRYoCj3FTJwWB_RxIqapRMF6Eg0/edit?usp=sharing) ',\n",
       " ' [Training for AI Engineers](https://docs.google.com/document/d/1NfmEDyxrJ7Tz7Wq4lAJHx1fQ4bPpM5v07dPTM4pjOsM/edit?usp=sharing) ',\n",
       " '[Training of AI Designer](https://docs.google.com/document/d/1GkGijGY1jLPrmm-MSRYoCj3FTJwWB_RxIqapRMF6Eg0/edit?usp=sharing) ',\n",
       " 'Designers:  Join Pitch Day & Team Match (within 24 fill out AI products interested in on [Team Match.xls](https://docs.google.com/spreadsheets/d/1WFSjvQTxtTfs0Hyocgj_0QNirXswTFMf8hsgZTRJn5E/edit?usp=sharing) ',\n",
       " 'Engineers join Zoom Pitch Day and fill out [Google Ranking form](https://forms.gle/VE2DCuHywse7KCW29) ',\n",
       " '[Training for Engineers ](https://docs.google.com/document/d/1NfmEDyxrJ7Tz7Wq4lAJHx1fQ4bPpM5v07dPTM4pjOsM/edit?usp=sharing) ',\n",
       " '[Training for Designers](https://docs.google.com/document/d/1GkGijGY1jLPrmm-MSRYoCj3FTJwWB_RxIqapRMF6Eg0/edit?usp=sharing) ',\n",
       " '[The Illustrated Transformer – Jay Alammar](https://jalammar.github.io/illustrated-transformer/) ',\n",
       " '[Neural Networks: Zero to Hero - YouTube](https://www.youtube.com/playlist?list=PLAqhIrjkxbuWI23v9cThsA9GvCAUhRvKZ) ',\n",
       " '[Introduction - Hugging Face NLP Course](https://huggingface.co/learn/nlp-course/chapter1/1) ',\n",
       " '[Generative AI for Beginners | Microsoft Learn](https://learn.microsoft.com/en-us/shows/generative-ai-for-beginners/) ',\n",
       " '[Tutorials | 🦜️🔗 LangChain](https://python.langchain.com/docs/tutorials/) ',\n",
       " '[GitHub - openai/openai-cookbook: Examples and guides for using the OpenAI API](https://github.com/openai/openai-cookbook) ',\n",
       " '[What is a Vector Database & How Does it Work? Use Cases + Examples | Pinecone](https://www.pinecone.io/learn/vector-database/) ',\n",
       " '[GitHub - DataTalksClub/mlops-zoomcamp: Free MLOps course from DataTalks.Club](https://github.com/DataTalksClub/mlops-zoomcamp) ',\n",
       " '[FastAPI](https://fastapi.tiangolo.com/) ',\n",
       " '[Docker For Data Scientists](https://www.youtube.com/watch?v=0qG_0CPQhpg) ',\n",
       " '[Understanding Agile Scrum.pdf](https://drive.google.com/file/d/1f5yphH5_CupGSuFe8dTPAWUXksyxI8Ah/view?usp=drive_link) ',\n",
       " '[What Is Agile Methodology? | Introduction to Agile Methodology in Six Minutes | Simplilearn](https://www.youtube.com/watch?v=8eVXTyIZ1Hs) ',\n",
       " '[What Is Agile Scrum Framework? | Scrum Framework Explained | Agile Methodology | Simplilearn](https://www.youtube.com/watch?v=B7VucspZA68) ',\n",
       " '[Master the Daily Scrum: Everything You Need to Know for Agile Success! 🚀 | Scrum Basics Simplified](https://www.youtube.com/watch?v=xcC0LmkzG9g) ',\n",
       " 'Onboarding Video Link By Anil Thomas: [https://youtu.be/ZBEoZYmMCMc](https://youtu.be/ZBEoZYmMCMc) ',\n",
       " '[[05. Tools & Technologies.docx](https://docs.google.com/document/d/1v3INP0deWEEO82HVbhf4hRGYISXcKA9Q/edit) ',\n",
       " '   Session Theme: Introduction, What to expect, Timelines, Q&A [https://youtu.be/_v6hyhS_U0U](https://youtu.be/_v6hyhS_U0U) ',\n",
       " 'Week 3: Friday, February 14 @ 11am - Duration 1hr Session Theme: Prepping for Team Matching & I’m on a team, now what? [ https://youtu.be/d7bCIwlXZsY](https://youtu.be/d7bCIwlXZsY) ',\n",
       " 'Week 4: Friday, February 21 @ 10am - Duration 30 mins Session Theme: AI Product Lifecycle [https://youtu.be/sc8g3RvwBBk](https://youtu.be/sc8g3RvwBBk) ',\n",
       " 'Week 5: Friday, February 28 @ 11am - Duration 30 mins Session Theme: Outcome Mindset & Delivering Value [ https://youtu.be/ADjjqyM1zP4](https://youtu.be/ADjjqyM1zP4) ',\n",
       " 'IF YOU DIDN’T watch the welcome and onboarding video[ by Dr. Nancy Li, make sure to watch it now. ](https://youtu.be/3yudcDTRjFs) ',\n",
       " 'Join our[ Developer Discord server](https://discord.gg/s5FaePeF) ',\n",
       " '[https://youtu.be/S69147JbQpU?si=p0fHjqO7tTlyUHTB](https://youtu.be/S69147JbQpU?si=p0fHjqO7tTlyUHTB) ',\n",
       " '[https://youtu.be/5OZjUtUdbbI?si=iW_JL81H3fjLl0yn](https://youtu.be/5OZjUtUdbbI?si=iW_JL81H3fjLl0yn) ',\n",
       " 'Join our first tech mentor session. Dates will be announced in the Discord channel. Our mentor will give you an overview of how to collaborate in a cross-functional team during the AI project and how to find tech resources. Here is the [link](https://docs.google.com/document/d/18O8Xpbognhi3GYJeHDYbBRHGAl5-a4DL/edit?tab=t.0) ',\n",
       " '[Engineers’ Training Playlist](https://www.youtube.com/playlist?list=PLr7J0CdhrYUvc-pfs9j6sdrjV6iYW-V2q) ',\n",
       " '[Designers’ Training Playlist](https://www.youtube.com/playlist?list=PLr7J0CdhrYUts5UWKgndNWTbf7z54Errl) ',\n",
       " '[Engineers’ Training Playlist](https://www.youtube.com/playlist?list=PLr7J0CdhrYUvc-pfs9j6sdrjV6iYW-V2q) ',\n",
       " '[Designers’ Training Playlist](https://www.youtube.com/playlist?list=PLr7J0CdhrYUts5UWKgndNWTbf7z54Errl) ',\n",
       " '[Engineers’ Training Playlist](https://www.youtube.com/playlist?list=PLr7J0CdhrYUvc-pfs9j6sdrjV6iYW-V2q) ',\n",
       " '[Designers’ Training Playlist](https://www.youtube.com/playlist?list=PLr7J0CdhrYUts5UWKgndNWTbf7z54Errl) ',\n",
       " 'Engineers will then fill out a [Google form](https://forms.gle/QP31Fxsm5Sy9vqFy7) ',\n",
       " 'Engineers will then fill out a [Google form](https://forms.gle/QP31Fxsm5Sy9vqFy7) ',\n",
       " \"📹 Example: Cohort 3's [ team match video.](https://www.youtube.com/watch?v=74CNxLh1dXY) \",\n",
       " 'Participants will have access to technical advisors and recommended courses to improve their AI skills. Dr. Nancy Li encourages continuous learning and upskilling in areas like AI and cloud computing. Here is the [training doc](https://docs.google.com/document/d/18O8Xpbognhi3GYJeHDYbBRHGAl5-a4DL/edit?usp=sharing&ouid=114588341874056644793&rtpof=true&sd=true) ',\n",
       " 'A: Examples include AI-powered home renovation, inventory forecasting, price prediction, mental health consultation, and productivity tools. The projects vary depending on the cohort and team needs. Please watch the [last cohort demo ](https://www.youtube.com/watch?v=ZBwjsg_iZN8) ',\n",
       " 'A: Recommended courses will be provided, and most of them are free. You can check out our [free training here](https://docs.google.com/document/d/18O8Xpbognhi3GYJeHDYbBRHGAl5-a4DL/edit?usp=sharing&ouid=114588341874056644793&rtpof=true&sd=true) ',\n",
       " '- Recent AI Intern recorded training/ onboarding with Mentors Aishwarya Saad Shariff & Anil Thomas:[ ](https://youtu.be/O0WJ1LTqhAY) ',\n",
       " '- Recent AI Intern recorded training/ onboarding with Mentors Aishwarya Saad Shariff & Anil Thomas:[ ](https://youtu.be/O0WJ1LTqhAY) [https://youtu.be/O0WJ1LTqhAY](https://youtu.be/O0WJ1LTqhAY) ',\n",
       " '- Intern Onboarding, training, AI course and guide document:[ ](https://docs.google.com/document/d/18O8Xpbognhi3GYJeHDYbBRHGAl5-a4DL/edit?usp=sharing&ouid=100574353221996474859&rtpof=true&sd=true) ',\n",
       " '- Intern Onboarding, training, AI course and guide document:[ ](https://docs.google.com/document/d/18O8Xpbognhi3GYJeHDYbBRHGAl5-a4DL/edit?usp=sharing&ouid=100574353221996474859&rtpof=true&sd=true) [https://docs.google.com/document/d/18O8Xpbognhi3GYJeHDYbBRHGAl5-a4DL/edit?usp=sharing&ouid=100574353221996474859&rtpof=true&sd=true](https://docs.google.com/document/d/18O8Xpbognhi3GYJeHDYbBRHGAl5-a4DL/edit?usp=sharing&ouid=100574353221996474859&rtpof=true&sd=true) ',\n",
       " '[High-level intro](https://www.youtube.com/watch?v=PeMlggyqz0Y) ',\n",
       " '[High-level intro](https://www.youtube.com/watch?v=PeMlggyqz0Y) , [types of ML](https://www.youtube.com/watch?v=9gGnTQTYNaE) ',\n",
       " '[What is deep learning](https://youtu.be/6M5VXKLf4D4) ',\n",
       " '[Math behind deep learning](https://youtu.be/aircAruvnKk?si=VTZRhIqCyex3oJpJ) ',\n",
       " '[Transformers, explained](https://youtu.be/SZorAJ4I-sA) ',\n",
       " \"Complicated math behind it if you want to get technical. But it might hurt your brain after watching it. A lot of math…[Transformer Neural Networks, ChatGPT's foundation, Clearly Explained!!!](https://youtu.be/zxQyTK8quyY?si=3zAYxFYhGxwNUd82) \",\n",
       " '[How computer vision works](https://youtu.be/OcycT1Jwsns) ',\n",
       " ' [Generative AI in Nutshell - how to survive & thrive in the age of AI](https://youtu.be/2IK3DFHRFfw?si=kqxQ9eBiBrSQEcCR) ',\n",
       " '[Understanding ChatGPT/OpenAI Tokens](https://youtu.be/Mo3NV5n1yZk) ',\n",
       " '[How context window work](https://youtu.be/MmSMAYooRas) ',\n",
       " '[Why Large Language Models Hallucinate](https://youtu.be/cfqtFvWOfg0) ',\n",
       " '[ChatGPT Prompt Engineering mini-course (1h)](https://learn.deeplearning.ai/courses/chatgpt-prompt-eng/lesson/1/introduction?_gl=1*unkus4*_ga*MTk1NDc3OTYzNy4xNzE5NTk2NDc2*_ga_PZF1GBS1R1*MTcxOTU5NjQ3NS4xLjEuMTcxOTU5NjU1Mi42MC4wLjA.) ',\n",
       " '[Mini-course Prompt engineering for vision models](https://www.deeplearning.ai/short-courses/prompt-engineering-for-vision-models/) ',\n",
       " '[Advanced Prompting Techniques](https://www.promptingguide.ai/techniques) ',\n",
       " '[Langchain agents simply explained](https://youtu.be/Xi9Ui-9qcPw) ',\n",
       " '[Here is a lecture from Andrew Ng demonstrating the Agentic Workflows and why they are game-changer](https://youtu.be/q1XFm21I-VQ?t=819) ',\n",
       " '[FastAPI](https://fastapi.tiangolo.com/) ',\n",
       " '[Docker for DataScientists ](https://www.youtube.com/watch?v=0qG_0CPQhpg) ',\n",
       " '[Machine Learning Master](https://machinelearningmastery.com/) ',\n",
       " '[Underfitting & Overfitting - Explained](https://youtu.be/o3DztvnfAJg) ',\n",
       " '[Machine Learning Fundamentals: Bias and Variance](https://youtu.be/EuBBz3bI-aA) ',\n",
       " 'MLOps [What is MLOps?](https://youtu.be/OejCJL2EC3k) ',\n",
       " '[MLOPS ZoomCamp ](https://github.com/DataTalksClub/mlops-zoomcamp) ',\n",
       " 'Feature Engineering [What is Feature Engineering?](https://youtu.be/AnZWCB1gpfE) ',\n",
       " 'Hyperparameter Tunning [Parameters vs hyperparameters in machine learning](https://youtu.be/V4AcLJ2cgmU) ',\n",
       " 'Model Deployment [Machine Learning Model Deployment Explained | All About ML Model Deployment](https://youtu.be/SHyFjJ-tIJE) ',\n",
       " 'Data cleaning in production time [https://youtu.be/P8ERBy91Y90?si=yZ37-ScTbjtK4Af](https://youtu.be/P8ERBy91Y90?si=yZ37-ScTbjtK4AfL) ',\n",
       " '[Image classification vs Object detection vs Image Segmentation | Deep Learning Tutorial 28](https://youtu.be/taC5pMCm70U) ',\n",
       " '[Natural Language Processing In 5 Minutes | What Is NLP And How Does It Work? | Simplilearn](https://youtu.be/CMrHM8a3hqw) ',\n",
       " '[Dimensionality Reduction](https://youtu.be/3uxOyk-SczU) ',\n",
       " '[Machine Learning - Dimensionality Reduction - Feature Extraction & Selection](https://youtu.be/AU_hBML2H1c) ',\n",
       " '[OpenAI Plays Hide and Seek…and Breaks The Game! 🤖](https://youtu.be/Lu56xVlZ40M) ',\n",
       " '[What are GANs (Generative Adversarial Networks)?](https://youtu.be/TpMIssRdhco) ',\n",
       " '[Basic explanation](https://youtu.be/dCelRItdGfc) ',\n",
       " 'If you need to go deeper, [this course](https://www.deeplearning.ai/courses/generative-ai-with-llms/) ',\n",
       " '[Distilling Neural Networks | Two Minute Papers #218](https://youtu.be/zjaz2mC1KhM) ',\n",
       " '[Quantization vs Pruning vs Distillation: Optimizing NNs for Inference](https://youtu.be/UcwDgsMgTu4) ',\n",
       " '[All You Need To Know About Running LLMs Locally](https://youtu.be/XwL_cRuXM2E?si=vtmA2i40VMhZiBuN) ',\n",
       " '[Fine-tuning a Neural Network explained](https://youtu.be/5T-iXNNiwIs) ',\n",
       " '[Catastrophic forgetting](https://youtu.be/2GkdGP3P3w4) ',\n",
       " '[4 AI Agent Strategies](https://www.deeplearning.ai/the-batch/how-agents-can-improve-llm-performance/) ',\n",
       " '[Reflection](https://www.deeplearning.ai/the-batch/agentic-design-patterns-part-2-reflection/) ',\n",
       " 'LangChain - [Reflection Agents example](https://www.youtube.com/watch?v=v5ymBTXNqtk) ',\n",
       " '[Tool Use](https://www.deeplearning.ai/the-batch/agentic-design-patterns-part-3-tool-use/) ',\n",
       " 'LangChain - [Tool Calling](https://www.youtube.com/watch?v=zCwuAlpQKTM) ',\n",
       " '[Planning](https://www.deeplearning.ai/the-batch/agentic-design-patterns-part-4-planning/) ',\n",
       " 'LangGraph - [Planning Agents](https://www.youtube.com/watch?v=uRya4zRrRx4) ',\n",
       " '[Multi-agent Collaboration](https://www.deeplearning.ai/the-batch/agentic-design-patterns-part-5-multi-agent-collaboration) ',\n",
       " 'LangGraph: [Multi-Agent Workflows](https://www.youtube.com/watch?v=hvAPnpSfSGo) ',\n",
       " '[LangGraph: Agent Evaluations](https://www.youtube.com/watch?v=_QozKR9eQE8) ',\n",
       " '[LangSmith Without LangChain/Graph (Observability, Evals)](https://www.youtube.com/watch?v=YBErIomQ7N4) ',\n",
       " '[The Agentic Era of UX](https://uxdesign.cc/the-agentic-era-of-ux-4b58634e410b) ',\n",
       " '[LangChain: Breakout Agentic Apps](https://www.langchain.com/breakoutagents) ',\n",
       " '[LangChain: UX for Agents, Part 1: Chat](https://blog.langchain.com/ux-for-agents-part-1-chat-2/) ',\n",
       " '[LangChain: UX for Agents, Part 2: Ambient](https://blog.langchain.com/ux-for-agents-part-2-ambient/) ',\n",
       " '[LangChain: UX for Agents, Part 3: Spreadsheets, Generative, and Collaborative UI/UX](https://blog.langchain.com/ux-for-agents-part-3/) ',\n",
       " '[Create ChatGPT Application with Chat GPT API from OpenAI in Python Flask](https://youtu.be/9b-Pv-5Av0w?si=sIGFTdClozBoPIyS) ',\n",
       " '[Build AI Apps with ChatGPT and DALL-E](https://youtu.be/jlogLBkPZ2A?si=r1rHUYgjHKgBoGqo) ',\n",
       " '[Developer channel](https://www.youtube.com/@codewithbeto) ',\n",
       " '[Microsoft database foundations. ](https://support.microsoft.com/en-us/office/database-basics-a849ac16-07c7-4a31-9948-3c8c94a7c204) ',\n",
       " '(58mins) [Learn SQL in 1 hour](https://www.youtube.com/watch?v=9Pzj7Aj25lw) ',\n",
       " '(docs) [SQL reference](https://www.w3schools.com/sql/sql_intro.asp) ',\n",
       " '(17mins) [Database design tutorial. ](https://www.youtube.com/watch?v=I_rxqSJAj6U&list=PLXPKpHao5iI7ViV2n-_aSMwWC6l9qFeaX) ',\n",
       " '(6mins) [Database schema](https://www.youtube.com/watch?v=ymb9gsl_x1U&list=PLXPKpHao5iI7ViV2n-_aSMwWC6l9qFeaX&index=2) ',\n",
       " '(32mins) [Logical Database Design and E-R Diagrams](https://www.youtube.com/watch?v=ZBgXb66Ckz0&list=PLXPKpHao5iI7ViV2n-_aSMwWC6l9qFeaX&index=5) ',\n",
       " '(docs) [The design process](https://support.microsoft.com/en-us/office/database-design-basics-eb2159cf-1e30-401a-8084-bd4f9c9ca1f5#bmdesignprocess) ',\n",
       " '(docs) [Applying the normalization rules](https://support.microsoft.com/en-us/office/database-design-basics-eb2159cf-1e30-401a-8084-bd4f9c9ca1f5#bmnormalization) ',\n",
       " '(27 hours) [Meta Intro to database.](https://www.coursera.org/learn/introduction-to-databases?utm_source=gg&utm_medium=sem&utm_campaign=B2C_NAMER_meta-database-engineer_meta_FTCOF_professional-certificates_facebook-meta-country-US-country-CA&utm_content=B2C&campaignid=18179485322&adgroupid=152616751140&device=c&keyword=&matchtype=&network=g&devicemodel=&adpostion=&creativeid=667176695478&hide_mobile_promo&gad_source=1&gclid=CjwKCAjwm_SzBhAsEiwAXE2Cv3b3pioP_xUYCf7jUyRZHzI97KY1F34O0UJCROF2TGYRUsJK4XThShoCoMMQAvD_BwE) ',\n",
       " '(3h55mins) [Python for beginners](https://www.udemy.com/course/python-for-every1/?ranMID=39197&ranEAID=Vrr1tRSwXGM&ranSiteID=Vrr1tRSwXGM-hrbID8JXfrK4MBs_rCwasw&LSNPUBID=Vrr1tRSwXGM&utm_source=aff-campaign&utm_medium=udemyads) ',\n",
       " '(1h49min) [Python Library for Data Science](https://www.udemy.com/course/python-numpy-fundamentals/?ranMID=39197&ranEAID=Vrr1tRSwXGM&ranSiteID=Vrr1tRSwXGM-RxiJ7FSwqOs7KqlEEqWl.Q&LSNPUBID=Vrr1tRSwXGM&utm_source=aff-campaign&utm_medium=udemyads) ',\n",
       " '(8mins) [Python database Connection](https://www.youtube.com/watch?v=vR5utJvN4JY&pp=ygUdY29ubmVjdCBkYXRhYmFzZSB3aXRoIHB5dGhvbiA%3D) ',\n",
       " '(17mins) [SQL database with Pandas and Python](https://www.youtube.com/watch?v=DiQ5Hni6oRI&pp=ygUdY29ubmVjdCBkYXRhYmFzZSB3aXRoIHB5dGhvbiA%3D) ']"
      ]
     },
     "execution_count": 2,
     "metadata": {},
     "output_type": "execute_result"
    }
   ],
   "source": [
    "links"
   ]
  },
  {
   "cell_type": "code",
   "execution_count": null,
   "id": "1632bcce",
   "metadata": {},
   "outputs": [],
   "source": [
    "import re\n",
    "def extract_youtube_links(link_list: list[str]) -> list[dict]:\n",
    "    yt_links=[]\n",
    "    pattern=re.compile(r\"\\[([^\\]]+)\\]\\((https?://(?:www\\.)?(?:youtube\\.com|youtu\\.be)[^\\)]+)\\)\")\n",
    "    for md in link_list:\n",
    "        match=pattern.search(md)\n",
    "        if match:\n",
    "            title=match.group(1).strip()\n",
    "            url=match.group(2)\n",
    "            yt_links.append({\"title\": title, \"url\": url})\n",
    "    return yt_links\n"
   ]
  },
  {
   "cell_type": "code",
   "execution_count": null,
   "id": "a88027ef",
   "metadata": {},
   "outputs": [],
   "source": [
    "def get_youtube_id(url: str) -> str | None:\n",
    "    \n",
    "    pattern=re.compile(r\"(?:youtube\\.com/watch\\?v=|youtu\\.be/)([^&#]+)\")\n",
    "    match=pattern.search(url)\n",
    "    return match.group(1) if match else None\n"
   ]
  },
  {
   "cell_type": "code",
   "execution_count": 6,
   "id": "2fc5069f",
   "metadata": {},
   "outputs": [
    {
     "name": "stdout",
     "output_type": "stream",
     "text": [
      "71\n"
     ]
    },
    {
     "ename": "ConnectionError",
     "evalue": "HTTPSConnectionPool(host='www.youtube.com', port=443): Max retries exceeded with url: /watch?v=0qG_0CPQhpg (Caused by NameResolutionError(\"<urllib3.connection.HTTPSConnection object at 0x000002462DB666E0>: Failed to resolve 'www.youtube.com' ([Errno 11001] getaddrinfo failed)\"))",
     "output_type": "error",
     "traceback": [
      "\u001b[1;31m---------------------------------------------------------------------------\u001b[0m",
      "\u001b[1;31mgaierror\u001b[0m                                  Traceback (most recent call last)",
      "File \u001b[1;32mc:\\Users\\suman\\OneDrive\\Desktop\\RAG_Chatbot_PMA\\.venv\\lib\\site-packages\\urllib3\\connection.py:198\u001b[0m, in \u001b[0;36mHTTPConnection._new_conn\u001b[1;34m(self)\u001b[0m\n\u001b[0;32m    197\u001b[0m \u001b[38;5;28;01mtry\u001b[39;00m:\n\u001b[1;32m--> 198\u001b[0m     sock \u001b[38;5;241m=\u001b[39m \u001b[43mconnection\u001b[49m\u001b[38;5;241;43m.\u001b[39;49m\u001b[43mcreate_connection\u001b[49m\u001b[43m(\u001b[49m\n\u001b[0;32m    199\u001b[0m \u001b[43m        \u001b[49m\u001b[43m(\u001b[49m\u001b[38;5;28;43mself\u001b[39;49m\u001b[38;5;241;43m.\u001b[39;49m\u001b[43m_dns_host\u001b[49m\u001b[43m,\u001b[49m\u001b[43m \u001b[49m\u001b[38;5;28;43mself\u001b[39;49m\u001b[38;5;241;43m.\u001b[39;49m\u001b[43mport\u001b[49m\u001b[43m)\u001b[49m\u001b[43m,\u001b[49m\n\u001b[0;32m    200\u001b[0m \u001b[43m        \u001b[49m\u001b[38;5;28;43mself\u001b[39;49m\u001b[38;5;241;43m.\u001b[39;49m\u001b[43mtimeout\u001b[49m\u001b[43m,\u001b[49m\n\u001b[0;32m    201\u001b[0m \u001b[43m        \u001b[49m\u001b[43msource_address\u001b[49m\u001b[38;5;241;43m=\u001b[39;49m\u001b[38;5;28;43mself\u001b[39;49m\u001b[38;5;241;43m.\u001b[39;49m\u001b[43msource_address\u001b[49m\u001b[43m,\u001b[49m\n\u001b[0;32m    202\u001b[0m \u001b[43m        \u001b[49m\u001b[43msocket_options\u001b[49m\u001b[38;5;241;43m=\u001b[39;49m\u001b[38;5;28;43mself\u001b[39;49m\u001b[38;5;241;43m.\u001b[39;49m\u001b[43msocket_options\u001b[49m\u001b[43m,\u001b[49m\n\u001b[0;32m    203\u001b[0m \u001b[43m    \u001b[49m\u001b[43m)\u001b[49m\n\u001b[0;32m    204\u001b[0m \u001b[38;5;28;01mexcept\u001b[39;00m socket\u001b[38;5;241m.\u001b[39mgaierror \u001b[38;5;28;01mas\u001b[39;00m e:\n",
      "File \u001b[1;32mc:\\Users\\suman\\OneDrive\\Desktop\\RAG_Chatbot_PMA\\.venv\\lib\\site-packages\\urllib3\\util\\connection.py:60\u001b[0m, in \u001b[0;36mcreate_connection\u001b[1;34m(address, timeout, source_address, socket_options)\u001b[0m\n\u001b[0;32m     58\u001b[0m     \u001b[38;5;28;01mraise\u001b[39;00m LocationParseError(\u001b[38;5;124mf\u001b[39m\u001b[38;5;124m\"\u001b[39m\u001b[38;5;124m'\u001b[39m\u001b[38;5;132;01m{\u001b[39;00mhost\u001b[38;5;132;01m}\u001b[39;00m\u001b[38;5;124m'\u001b[39m\u001b[38;5;124m, label empty or too long\u001b[39m\u001b[38;5;124m\"\u001b[39m) \u001b[38;5;28;01mfrom\u001b[39;00m\u001b[38;5;250m \u001b[39m\u001b[38;5;28;01mNone\u001b[39;00m\n\u001b[1;32m---> 60\u001b[0m \u001b[38;5;28;01mfor\u001b[39;00m res \u001b[38;5;129;01min\u001b[39;00m \u001b[43msocket\u001b[49m\u001b[38;5;241;43m.\u001b[39;49m\u001b[43mgetaddrinfo\u001b[49m\u001b[43m(\u001b[49m\u001b[43mhost\u001b[49m\u001b[43m,\u001b[49m\u001b[43m \u001b[49m\u001b[43mport\u001b[49m\u001b[43m,\u001b[49m\u001b[43m \u001b[49m\u001b[43mfamily\u001b[49m\u001b[43m,\u001b[49m\u001b[43m \u001b[49m\u001b[43msocket\u001b[49m\u001b[38;5;241;43m.\u001b[39;49m\u001b[43mSOCK_STREAM\u001b[49m\u001b[43m)\u001b[49m:\n\u001b[0;32m     61\u001b[0m     af, socktype, proto, canonname, sa \u001b[38;5;241m=\u001b[39m res\n",
      "File \u001b[1;32m~\\AppData\\Local\\Programs\\Python\\Python310\\lib\\socket.py:955\u001b[0m, in \u001b[0;36mgetaddrinfo\u001b[1;34m(host, port, family, type, proto, flags)\u001b[0m\n\u001b[0;32m    954\u001b[0m addrlist \u001b[38;5;241m=\u001b[39m []\n\u001b[1;32m--> 955\u001b[0m \u001b[38;5;28;01mfor\u001b[39;00m res \u001b[38;5;129;01min\u001b[39;00m \u001b[43m_socket\u001b[49m\u001b[38;5;241;43m.\u001b[39;49m\u001b[43mgetaddrinfo\u001b[49m\u001b[43m(\u001b[49m\u001b[43mhost\u001b[49m\u001b[43m,\u001b[49m\u001b[43m \u001b[49m\u001b[43mport\u001b[49m\u001b[43m,\u001b[49m\u001b[43m \u001b[49m\u001b[43mfamily\u001b[49m\u001b[43m,\u001b[49m\u001b[43m \u001b[49m\u001b[38;5;28;43mtype\u001b[39;49m\u001b[43m,\u001b[49m\u001b[43m \u001b[49m\u001b[43mproto\u001b[49m\u001b[43m,\u001b[49m\u001b[43m \u001b[49m\u001b[43mflags\u001b[49m\u001b[43m)\u001b[49m:\n\u001b[0;32m    956\u001b[0m     af, socktype, proto, canonname, sa \u001b[38;5;241m=\u001b[39m res\n",
      "\u001b[1;31mgaierror\u001b[0m: [Errno 11001] getaddrinfo failed",
      "\nThe above exception was the direct cause of the following exception:\n",
      "\u001b[1;31mNameResolutionError\u001b[0m                       Traceback (most recent call last)",
      "File \u001b[1;32mc:\\Users\\suman\\OneDrive\\Desktop\\RAG_Chatbot_PMA\\.venv\\lib\\site-packages\\urllib3\\connectionpool.py:787\u001b[0m, in \u001b[0;36mHTTPConnectionPool.urlopen\u001b[1;34m(self, method, url, body, headers, retries, redirect, assert_same_host, timeout, pool_timeout, release_conn, chunked, body_pos, preload_content, decode_content, **response_kw)\u001b[0m\n\u001b[0;32m    786\u001b[0m \u001b[38;5;66;03m# Make the request on the HTTPConnection object\u001b[39;00m\n\u001b[1;32m--> 787\u001b[0m response \u001b[38;5;241m=\u001b[39m \u001b[38;5;28mself\u001b[39m\u001b[38;5;241m.\u001b[39m_make_request(\n\u001b[0;32m    788\u001b[0m     conn,\n\u001b[0;32m    789\u001b[0m     method,\n\u001b[0;32m    790\u001b[0m     url,\n\u001b[0;32m    791\u001b[0m     timeout\u001b[38;5;241m=\u001b[39mtimeout_obj,\n\u001b[0;32m    792\u001b[0m     body\u001b[38;5;241m=\u001b[39mbody,\n\u001b[0;32m    793\u001b[0m     headers\u001b[38;5;241m=\u001b[39mheaders,\n\u001b[0;32m    794\u001b[0m     chunked\u001b[38;5;241m=\u001b[39mchunked,\n\u001b[0;32m    795\u001b[0m     retries\u001b[38;5;241m=\u001b[39mretries,\n\u001b[0;32m    796\u001b[0m     response_conn\u001b[38;5;241m=\u001b[39mresponse_conn,\n\u001b[0;32m    797\u001b[0m     preload_content\u001b[38;5;241m=\u001b[39mpreload_content,\n\u001b[0;32m    798\u001b[0m     decode_content\u001b[38;5;241m=\u001b[39mdecode_content,\n\u001b[0;32m    799\u001b[0m     \u001b[38;5;241m*\u001b[39m\u001b[38;5;241m*\u001b[39mresponse_kw,\n\u001b[0;32m    800\u001b[0m )\n\u001b[0;32m    802\u001b[0m \u001b[38;5;66;03m# Everything went great!\u001b[39;00m\n",
      "File \u001b[1;32mc:\\Users\\suman\\OneDrive\\Desktop\\RAG_Chatbot_PMA\\.venv\\lib\\site-packages\\urllib3\\connectionpool.py:488\u001b[0m, in \u001b[0;36mHTTPConnectionPool._make_request\u001b[1;34m(self, conn, method, url, body, headers, retries, timeout, chunked, response_conn, preload_content, decode_content, enforce_content_length)\u001b[0m\n\u001b[0;32m    487\u001b[0m         new_e \u001b[38;5;241m=\u001b[39m _wrap_proxy_error(new_e, conn\u001b[38;5;241m.\u001b[39mproxy\u001b[38;5;241m.\u001b[39mscheme)\n\u001b[1;32m--> 488\u001b[0m     \u001b[38;5;28;01mraise\u001b[39;00m new_e\n\u001b[0;32m    490\u001b[0m \u001b[38;5;66;03m# conn.request() calls http.client.*.request, not the method in\u001b[39;00m\n\u001b[0;32m    491\u001b[0m \u001b[38;5;66;03m# urllib3.request. It also calls makefile (recv) on the socket.\u001b[39;00m\n",
      "File \u001b[1;32mc:\\Users\\suman\\OneDrive\\Desktop\\RAG_Chatbot_PMA\\.venv\\lib\\site-packages\\urllib3\\connectionpool.py:464\u001b[0m, in \u001b[0;36mHTTPConnectionPool._make_request\u001b[1;34m(self, conn, method, url, body, headers, retries, timeout, chunked, response_conn, preload_content, decode_content, enforce_content_length)\u001b[0m\n\u001b[0;32m    463\u001b[0m \u001b[38;5;28;01mtry\u001b[39;00m:\n\u001b[1;32m--> 464\u001b[0m     \u001b[38;5;28;43mself\u001b[39;49m\u001b[38;5;241;43m.\u001b[39;49m\u001b[43m_validate_conn\u001b[49m\u001b[43m(\u001b[49m\u001b[43mconn\u001b[49m\u001b[43m)\u001b[49m\n\u001b[0;32m    465\u001b[0m \u001b[38;5;28;01mexcept\u001b[39;00m (SocketTimeout, BaseSSLError) \u001b[38;5;28;01mas\u001b[39;00m e:\n",
      "File \u001b[1;32mc:\\Users\\suman\\OneDrive\\Desktop\\RAG_Chatbot_PMA\\.venv\\lib\\site-packages\\urllib3\\connectionpool.py:1093\u001b[0m, in \u001b[0;36mHTTPSConnectionPool._validate_conn\u001b[1;34m(self, conn)\u001b[0m\n\u001b[0;32m   1092\u001b[0m \u001b[38;5;28;01mif\u001b[39;00m conn\u001b[38;5;241m.\u001b[39mis_closed:\n\u001b[1;32m-> 1093\u001b[0m     \u001b[43mconn\u001b[49m\u001b[38;5;241;43m.\u001b[39;49m\u001b[43mconnect\u001b[49m\u001b[43m(\u001b[49m\u001b[43m)\u001b[49m\n\u001b[0;32m   1095\u001b[0m \u001b[38;5;66;03m# TODO revise this, see https://github.com/urllib3/urllib3/issues/2791\u001b[39;00m\n",
      "File \u001b[1;32mc:\\Users\\suman\\OneDrive\\Desktop\\RAG_Chatbot_PMA\\.venv\\lib\\site-packages\\urllib3\\connection.py:753\u001b[0m, in \u001b[0;36mHTTPSConnection.connect\u001b[1;34m(self)\u001b[0m\n\u001b[0;32m    752\u001b[0m sock: socket\u001b[38;5;241m.\u001b[39msocket \u001b[38;5;241m|\u001b[39m ssl\u001b[38;5;241m.\u001b[39mSSLSocket\n\u001b[1;32m--> 753\u001b[0m \u001b[38;5;28mself\u001b[39m\u001b[38;5;241m.\u001b[39msock \u001b[38;5;241m=\u001b[39m sock \u001b[38;5;241m=\u001b[39m \u001b[38;5;28;43mself\u001b[39;49m\u001b[38;5;241;43m.\u001b[39;49m\u001b[43m_new_conn\u001b[49m\u001b[43m(\u001b[49m\u001b[43m)\u001b[49m\n\u001b[0;32m    754\u001b[0m server_hostname: \u001b[38;5;28mstr\u001b[39m \u001b[38;5;241m=\u001b[39m \u001b[38;5;28mself\u001b[39m\u001b[38;5;241m.\u001b[39mhost\n",
      "File \u001b[1;32mc:\\Users\\suman\\OneDrive\\Desktop\\RAG_Chatbot_PMA\\.venv\\lib\\site-packages\\urllib3\\connection.py:205\u001b[0m, in \u001b[0;36mHTTPConnection._new_conn\u001b[1;34m(self)\u001b[0m\n\u001b[0;32m    204\u001b[0m \u001b[38;5;28;01mexcept\u001b[39;00m socket\u001b[38;5;241m.\u001b[39mgaierror \u001b[38;5;28;01mas\u001b[39;00m e:\n\u001b[1;32m--> 205\u001b[0m     \u001b[38;5;28;01mraise\u001b[39;00m NameResolutionError(\u001b[38;5;28mself\u001b[39m\u001b[38;5;241m.\u001b[39mhost, \u001b[38;5;28mself\u001b[39m, e) \u001b[38;5;28;01mfrom\u001b[39;00m\u001b[38;5;250m \u001b[39m\u001b[38;5;21;01me\u001b[39;00m\n\u001b[0;32m    206\u001b[0m \u001b[38;5;28;01mexcept\u001b[39;00m SocketTimeout \u001b[38;5;28;01mas\u001b[39;00m e:\n",
      "\u001b[1;31mNameResolutionError\u001b[0m: <urllib3.connection.HTTPSConnection object at 0x000002462DB666E0>: Failed to resolve 'www.youtube.com' ([Errno 11001] getaddrinfo failed)",
      "\nThe above exception was the direct cause of the following exception:\n",
      "\u001b[1;31mMaxRetryError\u001b[0m                             Traceback (most recent call last)",
      "File \u001b[1;32mc:\\Users\\suman\\OneDrive\\Desktop\\RAG_Chatbot_PMA\\.venv\\lib\\site-packages\\requests\\adapters.py:667\u001b[0m, in \u001b[0;36mHTTPAdapter.send\u001b[1;34m(self, request, stream, timeout, verify, cert, proxies)\u001b[0m\n\u001b[0;32m    666\u001b[0m \u001b[38;5;28;01mtry\u001b[39;00m:\n\u001b[1;32m--> 667\u001b[0m     resp \u001b[38;5;241m=\u001b[39m \u001b[43mconn\u001b[49m\u001b[38;5;241;43m.\u001b[39;49m\u001b[43murlopen\u001b[49m\u001b[43m(\u001b[49m\n\u001b[0;32m    668\u001b[0m \u001b[43m        \u001b[49m\u001b[43mmethod\u001b[49m\u001b[38;5;241;43m=\u001b[39;49m\u001b[43mrequest\u001b[49m\u001b[38;5;241;43m.\u001b[39;49m\u001b[43mmethod\u001b[49m\u001b[43m,\u001b[49m\n\u001b[0;32m    669\u001b[0m \u001b[43m        \u001b[49m\u001b[43murl\u001b[49m\u001b[38;5;241;43m=\u001b[39;49m\u001b[43murl\u001b[49m\u001b[43m,\u001b[49m\n\u001b[0;32m    670\u001b[0m \u001b[43m        \u001b[49m\u001b[43mbody\u001b[49m\u001b[38;5;241;43m=\u001b[39;49m\u001b[43mrequest\u001b[49m\u001b[38;5;241;43m.\u001b[39;49m\u001b[43mbody\u001b[49m\u001b[43m,\u001b[49m\n\u001b[0;32m    671\u001b[0m \u001b[43m        \u001b[49m\u001b[43mheaders\u001b[49m\u001b[38;5;241;43m=\u001b[39;49m\u001b[43mrequest\u001b[49m\u001b[38;5;241;43m.\u001b[39;49m\u001b[43mheaders\u001b[49m\u001b[43m,\u001b[49m\n\u001b[0;32m    672\u001b[0m \u001b[43m        \u001b[49m\u001b[43mredirect\u001b[49m\u001b[38;5;241;43m=\u001b[39;49m\u001b[38;5;28;43;01mFalse\u001b[39;49;00m\u001b[43m,\u001b[49m\n\u001b[0;32m    673\u001b[0m \u001b[43m        \u001b[49m\u001b[43massert_same_host\u001b[49m\u001b[38;5;241;43m=\u001b[39;49m\u001b[38;5;28;43;01mFalse\u001b[39;49;00m\u001b[43m,\u001b[49m\n\u001b[0;32m    674\u001b[0m \u001b[43m        \u001b[49m\u001b[43mpreload_content\u001b[49m\u001b[38;5;241;43m=\u001b[39;49m\u001b[38;5;28;43;01mFalse\u001b[39;49;00m\u001b[43m,\u001b[49m\n\u001b[0;32m    675\u001b[0m \u001b[43m        \u001b[49m\u001b[43mdecode_content\u001b[49m\u001b[38;5;241;43m=\u001b[39;49m\u001b[38;5;28;43;01mFalse\u001b[39;49;00m\u001b[43m,\u001b[49m\n\u001b[0;32m    676\u001b[0m \u001b[43m        \u001b[49m\u001b[43mretries\u001b[49m\u001b[38;5;241;43m=\u001b[39;49m\u001b[38;5;28;43mself\u001b[39;49m\u001b[38;5;241;43m.\u001b[39;49m\u001b[43mmax_retries\u001b[49m\u001b[43m,\u001b[49m\n\u001b[0;32m    677\u001b[0m \u001b[43m        \u001b[49m\u001b[43mtimeout\u001b[49m\u001b[38;5;241;43m=\u001b[39;49m\u001b[43mtimeout\u001b[49m\u001b[43m,\u001b[49m\n\u001b[0;32m    678\u001b[0m \u001b[43m        \u001b[49m\u001b[43mchunked\u001b[49m\u001b[38;5;241;43m=\u001b[39;49m\u001b[43mchunked\u001b[49m\u001b[43m,\u001b[49m\n\u001b[0;32m    679\u001b[0m \u001b[43m    \u001b[49m\u001b[43m)\u001b[49m\n\u001b[0;32m    681\u001b[0m \u001b[38;5;28;01mexcept\u001b[39;00m (ProtocolError, \u001b[38;5;167;01mOSError\u001b[39;00m) \u001b[38;5;28;01mas\u001b[39;00m err:\n",
      "File \u001b[1;32mc:\\Users\\suman\\OneDrive\\Desktop\\RAG_Chatbot_PMA\\.venv\\lib\\site-packages\\urllib3\\connectionpool.py:841\u001b[0m, in \u001b[0;36mHTTPConnectionPool.urlopen\u001b[1;34m(self, method, url, body, headers, retries, redirect, assert_same_host, timeout, pool_timeout, release_conn, chunked, body_pos, preload_content, decode_content, **response_kw)\u001b[0m\n\u001b[0;32m    839\u001b[0m     new_e \u001b[38;5;241m=\u001b[39m ProtocolError(\u001b[38;5;124m\"\u001b[39m\u001b[38;5;124mConnection aborted.\u001b[39m\u001b[38;5;124m\"\u001b[39m, new_e)\n\u001b[1;32m--> 841\u001b[0m retries \u001b[38;5;241m=\u001b[39m \u001b[43mretries\u001b[49m\u001b[38;5;241;43m.\u001b[39;49m\u001b[43mincrement\u001b[49m\u001b[43m(\u001b[49m\n\u001b[0;32m    842\u001b[0m \u001b[43m    \u001b[49m\u001b[43mmethod\u001b[49m\u001b[43m,\u001b[49m\u001b[43m \u001b[49m\u001b[43murl\u001b[49m\u001b[43m,\u001b[49m\u001b[43m \u001b[49m\u001b[43merror\u001b[49m\u001b[38;5;241;43m=\u001b[39;49m\u001b[43mnew_e\u001b[49m\u001b[43m,\u001b[49m\u001b[43m \u001b[49m\u001b[43m_pool\u001b[49m\u001b[38;5;241;43m=\u001b[39;49m\u001b[38;5;28;43mself\u001b[39;49m\u001b[43m,\u001b[49m\u001b[43m \u001b[49m\u001b[43m_stacktrace\u001b[49m\u001b[38;5;241;43m=\u001b[39;49m\u001b[43msys\u001b[49m\u001b[38;5;241;43m.\u001b[39;49m\u001b[43mexc_info\u001b[49m\u001b[43m(\u001b[49m\u001b[43m)\u001b[49m\u001b[43m[\u001b[49m\u001b[38;5;241;43m2\u001b[39;49m\u001b[43m]\u001b[49m\n\u001b[0;32m    843\u001b[0m \u001b[43m\u001b[49m\u001b[43m)\u001b[49m\n\u001b[0;32m    844\u001b[0m retries\u001b[38;5;241m.\u001b[39msleep()\n",
      "File \u001b[1;32mc:\\Users\\suman\\OneDrive\\Desktop\\RAG_Chatbot_PMA\\.venv\\lib\\site-packages\\urllib3\\util\\retry.py:519\u001b[0m, in \u001b[0;36mRetry.increment\u001b[1;34m(self, method, url, response, error, _pool, _stacktrace)\u001b[0m\n\u001b[0;32m    518\u001b[0m     reason \u001b[38;5;241m=\u001b[39m error \u001b[38;5;129;01mor\u001b[39;00m ResponseError(cause)\n\u001b[1;32m--> 519\u001b[0m     \u001b[38;5;28;01mraise\u001b[39;00m MaxRetryError(_pool, url, reason) \u001b[38;5;28;01mfrom\u001b[39;00m\u001b[38;5;250m \u001b[39m\u001b[38;5;21;01mreason\u001b[39;00m  \u001b[38;5;66;03m# type: ignore[arg-type]\u001b[39;00m\n\u001b[0;32m    521\u001b[0m log\u001b[38;5;241m.\u001b[39mdebug(\u001b[38;5;124m\"\u001b[39m\u001b[38;5;124mIncremented Retry for (url=\u001b[39m\u001b[38;5;124m'\u001b[39m\u001b[38;5;132;01m%s\u001b[39;00m\u001b[38;5;124m'\u001b[39m\u001b[38;5;124m): \u001b[39m\u001b[38;5;132;01m%r\u001b[39;00m\u001b[38;5;124m\"\u001b[39m, url, new_retry)\n",
      "\u001b[1;31mMaxRetryError\u001b[0m: HTTPSConnectionPool(host='www.youtube.com', port=443): Max retries exceeded with url: /watch?v=0qG_0CPQhpg (Caused by NameResolutionError(\"<urllib3.connection.HTTPSConnection object at 0x000002462DB666E0>: Failed to resolve 'www.youtube.com' ([Errno 11001] getaddrinfo failed)\"))",
      "\nDuring handling of the above exception, another exception occurred:\n",
      "\u001b[1;31mConnectionError\u001b[0m                           Traceback (most recent call last)",
      "Cell \u001b[1;32mIn[6], line 12\u001b[0m\n\u001b[0;32m     10\u001b[0m count\u001b[38;5;241m+\u001b[39m\u001b[38;5;241m=\u001b[39m\u001b[38;5;241m1\u001b[39m\n\u001b[0;32m     11\u001b[0m \u001b[38;5;28;01mtry\u001b[39;00m:\n\u001b[1;32m---> 12\u001b[0m     transcript_list\u001b[38;5;241m=\u001b[39m\u001b[43mYouTubeTranscriptApi\u001b[49m\u001b[38;5;241;43m.\u001b[39;49m\u001b[43mget_transcript\u001b[49m\u001b[43m(\u001b[49m\u001b[38;5;28;43mid\u001b[39;49m\u001b[43m,\u001b[49m\u001b[43m \u001b[49m\u001b[43mlanguages\u001b[49m\u001b[38;5;241;43m=\u001b[39;49m\u001b[43m[\u001b[49m\u001b[38;5;124;43m'\u001b[39;49m\u001b[38;5;124;43men\u001b[39;49m\u001b[38;5;124;43m'\u001b[39;49m\u001b[43m]\u001b[49m\u001b[43m)\u001b[49m\n\u001b[0;32m     13\u001b[0m     transcript\u001b[38;5;241m=\u001b[39m\u001b[38;5;124m\"\u001b[39m\u001b[38;5;124m \u001b[39m\u001b[38;5;124m\"\u001b[39m\u001b[38;5;241m.\u001b[39mjoin([item[\u001b[38;5;124m'\u001b[39m\u001b[38;5;124mtext\u001b[39m\u001b[38;5;124m'\u001b[39m] \u001b[38;5;28;01mfor\u001b[39;00m item \u001b[38;5;129;01min\u001b[39;00m transcript_list])\n\u001b[0;32m     14\u001b[0m     youtube_contents\u001b[38;5;241m.\u001b[39mappend(transcript)\n",
      "File \u001b[1;32mc:\\Users\\suman\\OneDrive\\Desktop\\RAG_Chatbot_PMA\\.venv\\lib\\site-packages\\youtube_transcript_api\\_api.py:290\u001b[0m, in \u001b[0;36mYouTubeTranscriptApi.get_transcript\u001b[1;34m(cls, video_id, languages, proxies, preserve_formatting)\u001b[0m\n\u001b[0;32m    282\u001b[0m warnings\u001b[38;5;241m.\u001b[39mwarn(\n\u001b[0;32m    283\u001b[0m     \u001b[38;5;124m\"\u001b[39m\u001b[38;5;124m`get_transcript` is deprecated and will be removed in a future version. \u001b[39m\u001b[38;5;124m\"\u001b[39m\n\u001b[0;32m    284\u001b[0m     \u001b[38;5;124m\"\u001b[39m\u001b[38;5;124mUse the `fetch` method instead!\u001b[39m\u001b[38;5;124m\"\u001b[39m,\n\u001b[0;32m    285\u001b[0m     \u001b[38;5;167;01mDeprecationWarning\u001b[39;00m,\n\u001b[0;32m    286\u001b[0m )\n\u001b[0;32m    288\u001b[0m \u001b[38;5;28;01massert\u001b[39;00m \u001b[38;5;28misinstance\u001b[39m(video_id, \u001b[38;5;28mstr\u001b[39m), \u001b[38;5;124m\"\u001b[39m\u001b[38;5;124m`video_id` must be a string\u001b[39m\u001b[38;5;124m\"\u001b[39m\n\u001b[0;32m    289\u001b[0m \u001b[38;5;28;01mreturn\u001b[39;00m (\n\u001b[1;32m--> 290\u001b[0m     \u001b[38;5;28;43mcls\u001b[39;49m\u001b[38;5;241;43m.\u001b[39;49m\u001b[43mlist_transcripts\u001b[49m\u001b[43m(\u001b[49m\u001b[43mvideo_id\u001b[49m\u001b[43m,\u001b[49m\u001b[43m \u001b[49m\u001b[43mproxies\u001b[49m\u001b[43m)\u001b[49m\n\u001b[0;32m    291\u001b[0m     \u001b[38;5;241m.\u001b[39mfind_transcript(languages)\n\u001b[0;32m    292\u001b[0m     \u001b[38;5;241m.\u001b[39mfetch(preserve_formatting\u001b[38;5;241m=\u001b[39mpreserve_formatting)\n\u001b[0;32m    293\u001b[0m     \u001b[38;5;241m.\u001b[39mto_raw_data()\n\u001b[0;32m    294\u001b[0m )\n",
      "File \u001b[1;32mc:\\Users\\suman\\OneDrive\\Desktop\\RAG_Chatbot_PMA\\.venv\\lib\\site-packages\\youtube_transcript_api\\_api.py:197\u001b[0m, in \u001b[0;36mYouTubeTranscriptApi.list_transcripts\u001b[1;34m(cls, video_id, proxies)\u001b[0m\n\u001b[0;32m    190\u001b[0m         proxy_config \u001b[38;5;241m=\u001b[39m GenericProxyConfig(\n\u001b[0;32m    191\u001b[0m             http_url\u001b[38;5;241m=\u001b[39mproxies\u001b[38;5;241m.\u001b[39mget(\u001b[38;5;124m\"\u001b[39m\u001b[38;5;124mhttp\u001b[39m\u001b[38;5;124m\"\u001b[39m), https_url\u001b[38;5;241m=\u001b[39mproxies\u001b[38;5;241m.\u001b[39mget(\u001b[38;5;124m\"\u001b[39m\u001b[38;5;124mhttps\u001b[39m\u001b[38;5;124m\"\u001b[39m)\n\u001b[0;32m    192\u001b[0m         )\n\u001b[0;32m    194\u001b[0m ytt_api \u001b[38;5;241m=\u001b[39m YouTubeTranscriptApi(\n\u001b[0;32m    195\u001b[0m     proxy_config\u001b[38;5;241m=\u001b[39mproxy_config,\n\u001b[0;32m    196\u001b[0m )\n\u001b[1;32m--> 197\u001b[0m \u001b[38;5;28;01mreturn\u001b[39;00m \u001b[43mytt_api\u001b[49m\u001b[38;5;241;43m.\u001b[39;49m\u001b[43mlist\u001b[49m\u001b[43m(\u001b[49m\u001b[43mvideo_id\u001b[49m\u001b[43m)\u001b[49m\n",
      "File \u001b[1;32mc:\\Users\\suman\\OneDrive\\Desktop\\RAG_Chatbot_PMA\\.venv\\lib\\site-packages\\youtube_transcript_api\\_api.py:128\u001b[0m, in \u001b[0;36mYouTubeTranscriptApi.list\u001b[1;34m(self, video_id)\u001b[0m\n\u001b[0;32m     77\u001b[0m \u001b[38;5;28;01mdef\u001b[39;00m\u001b[38;5;250m \u001b[39m\u001b[38;5;21mlist\u001b[39m(\n\u001b[0;32m     78\u001b[0m     \u001b[38;5;28mself\u001b[39m,\n\u001b[0;32m     79\u001b[0m     video_id: \u001b[38;5;28mstr\u001b[39m,\n\u001b[0;32m     80\u001b[0m ) \u001b[38;5;241m-\u001b[39m\u001b[38;5;241m>\u001b[39m TranscriptList:\n\u001b[0;32m     81\u001b[0m \u001b[38;5;250m    \u001b[39m\u001b[38;5;124;03m\"\"\"\u001b[39;00m\n\u001b[0;32m     82\u001b[0m \u001b[38;5;124;03m    Retrieves the list of transcripts which are available for a given video. It\u001b[39;00m\n\u001b[0;32m     83\u001b[0m \u001b[38;5;124;03m    returns a `TranscriptList` object which is iterable and provides methods to\u001b[39;00m\n\u001b[1;32m   (...)\u001b[0m\n\u001b[0;32m    126\u001b[0m \u001b[38;5;124;03m        Make sure that this is the actual ID, NOT the full URL to the video!\u001b[39;00m\n\u001b[0;32m    127\u001b[0m \u001b[38;5;124;03m    \"\"\"\u001b[39;00m\n\u001b[1;32m--> 128\u001b[0m     \u001b[38;5;28;01mreturn\u001b[39;00m \u001b[38;5;28;43mself\u001b[39;49m\u001b[38;5;241;43m.\u001b[39;49m\u001b[43m_fetcher\u001b[49m\u001b[38;5;241;43m.\u001b[39;49m\u001b[43mfetch\u001b[49m\u001b[43m(\u001b[49m\u001b[43mvideo_id\u001b[49m\u001b[43m)\u001b[49m\n",
      "File \u001b[1;32mc:\\Users\\suman\\OneDrive\\Desktop\\RAG_Chatbot_PMA\\.venv\\lib\\site-packages\\youtube_transcript_api\\_transcripts.py:356\u001b[0m, in \u001b[0;36mTranscriptListFetcher.fetch\u001b[1;34m(self, video_id)\u001b[0m\n\u001b[0;32m    352\u001b[0m \u001b[38;5;28;01mdef\u001b[39;00m\u001b[38;5;250m \u001b[39m\u001b[38;5;21mfetch\u001b[39m(\u001b[38;5;28mself\u001b[39m, video_id: \u001b[38;5;28mstr\u001b[39m) \u001b[38;5;241m-\u001b[39m\u001b[38;5;241m>\u001b[39m TranscriptList:\n\u001b[0;32m    353\u001b[0m     \u001b[38;5;28;01mreturn\u001b[39;00m TranscriptList\u001b[38;5;241m.\u001b[39mbuild(\n\u001b[0;32m    354\u001b[0m         \u001b[38;5;28mself\u001b[39m\u001b[38;5;241m.\u001b[39m_http_client,\n\u001b[0;32m    355\u001b[0m         video_id,\n\u001b[1;32m--> 356\u001b[0m         \u001b[38;5;28;43mself\u001b[39;49m\u001b[38;5;241;43m.\u001b[39;49m\u001b[43m_fetch_captions_json\u001b[49m\u001b[43m(\u001b[49m\u001b[43mvideo_id\u001b[49m\u001b[43m)\u001b[49m,\n\u001b[0;32m    357\u001b[0m     )\n",
      "File \u001b[1;32mc:\\Users\\suman\\OneDrive\\Desktop\\RAG_Chatbot_PMA\\.venv\\lib\\site-packages\\youtube_transcript_api\\_transcripts.py:361\u001b[0m, in \u001b[0;36mTranscriptListFetcher._fetch_captions_json\u001b[1;34m(self, video_id, try_number)\u001b[0m\n\u001b[0;32m    359\u001b[0m \u001b[38;5;28;01mdef\u001b[39;00m\u001b[38;5;250m \u001b[39m\u001b[38;5;21m_fetch_captions_json\u001b[39m(\u001b[38;5;28mself\u001b[39m, video_id: \u001b[38;5;28mstr\u001b[39m, try_number: \u001b[38;5;28mint\u001b[39m \u001b[38;5;241m=\u001b[39m \u001b[38;5;241m0\u001b[39m) \u001b[38;5;241m-\u001b[39m\u001b[38;5;241m>\u001b[39m Dict:\n\u001b[0;32m    360\u001b[0m     \u001b[38;5;28;01mtry\u001b[39;00m:\n\u001b[1;32m--> 361\u001b[0m         html \u001b[38;5;241m=\u001b[39m \u001b[38;5;28;43mself\u001b[39;49m\u001b[38;5;241;43m.\u001b[39;49m\u001b[43m_fetch_video_html\u001b[49m\u001b[43m(\u001b[49m\u001b[43mvideo_id\u001b[49m\u001b[43m)\u001b[49m\n\u001b[0;32m    362\u001b[0m         api_key \u001b[38;5;241m=\u001b[39m \u001b[38;5;28mself\u001b[39m\u001b[38;5;241m.\u001b[39m_extract_innertube_api_key(html, video_id)\n\u001b[0;32m    363\u001b[0m         innertube_data \u001b[38;5;241m=\u001b[39m \u001b[38;5;28mself\u001b[39m\u001b[38;5;241m.\u001b[39m_fetch_innertube_data(video_id, api_key)\n",
      "File \u001b[1;32mc:\\Users\\suman\\OneDrive\\Desktop\\RAG_Chatbot_PMA\\.venv\\lib\\site-packages\\youtube_transcript_api\\_transcripts.py:433\u001b[0m, in \u001b[0;36mTranscriptListFetcher._fetch_video_html\u001b[1;34m(self, video_id)\u001b[0m\n\u001b[0;32m    432\u001b[0m \u001b[38;5;28;01mdef\u001b[39;00m\u001b[38;5;250m \u001b[39m\u001b[38;5;21m_fetch_video_html\u001b[39m(\u001b[38;5;28mself\u001b[39m, video_id: \u001b[38;5;28mstr\u001b[39m) \u001b[38;5;241m-\u001b[39m\u001b[38;5;241m>\u001b[39m \u001b[38;5;28mstr\u001b[39m:\n\u001b[1;32m--> 433\u001b[0m     html \u001b[38;5;241m=\u001b[39m \u001b[38;5;28;43mself\u001b[39;49m\u001b[38;5;241;43m.\u001b[39;49m\u001b[43m_fetch_html\u001b[49m\u001b[43m(\u001b[49m\u001b[43mvideo_id\u001b[49m\u001b[43m)\u001b[49m\n\u001b[0;32m    434\u001b[0m     \u001b[38;5;28;01mif\u001b[39;00m \u001b[38;5;124m'\u001b[39m\u001b[38;5;124maction=\u001b[39m\u001b[38;5;124m\"\u001b[39m\u001b[38;5;124mhttps://consent.youtube.com/s\u001b[39m\u001b[38;5;124m\"\u001b[39m\u001b[38;5;124m'\u001b[39m \u001b[38;5;129;01min\u001b[39;00m html:\n\u001b[0;32m    435\u001b[0m         \u001b[38;5;28mself\u001b[39m\u001b[38;5;241m.\u001b[39m_create_consent_cookie(html, video_id)\n",
      "File \u001b[1;32mc:\\Users\\suman\\OneDrive\\Desktop\\RAG_Chatbot_PMA\\.venv\\lib\\site-packages\\youtube_transcript_api\\_transcripts.py:442\u001b[0m, in \u001b[0;36mTranscriptListFetcher._fetch_html\u001b[1;34m(self, video_id)\u001b[0m\n\u001b[0;32m    441\u001b[0m \u001b[38;5;28;01mdef\u001b[39;00m\u001b[38;5;250m \u001b[39m\u001b[38;5;21m_fetch_html\u001b[39m(\u001b[38;5;28mself\u001b[39m, video_id: \u001b[38;5;28mstr\u001b[39m) \u001b[38;5;241m-\u001b[39m\u001b[38;5;241m>\u001b[39m \u001b[38;5;28mstr\u001b[39m:\n\u001b[1;32m--> 442\u001b[0m     response \u001b[38;5;241m=\u001b[39m \u001b[38;5;28;43mself\u001b[39;49m\u001b[38;5;241;43m.\u001b[39;49m\u001b[43m_http_client\u001b[49m\u001b[38;5;241;43m.\u001b[39;49m\u001b[43mget\u001b[49m\u001b[43m(\u001b[49m\u001b[43mWATCH_URL\u001b[49m\u001b[38;5;241;43m.\u001b[39;49m\u001b[43mformat\u001b[49m\u001b[43m(\u001b[49m\u001b[43mvideo_id\u001b[49m\u001b[38;5;241;43m=\u001b[39;49m\u001b[43mvideo_id\u001b[49m\u001b[43m)\u001b[49m\u001b[43m)\u001b[49m\n\u001b[0;32m    443\u001b[0m     \u001b[38;5;28;01mreturn\u001b[39;00m unescape(_raise_http_errors(response, video_id)\u001b[38;5;241m.\u001b[39mtext)\n",
      "File \u001b[1;32mc:\\Users\\suman\\OneDrive\\Desktop\\RAG_Chatbot_PMA\\.venv\\lib\\site-packages\\requests\\sessions.py:602\u001b[0m, in \u001b[0;36mSession.get\u001b[1;34m(self, url, **kwargs)\u001b[0m\n\u001b[0;32m    594\u001b[0m \u001b[38;5;250m\u001b[39m\u001b[38;5;124mr\u001b[39m\u001b[38;5;124;03m\"\"\"Sends a GET request. Returns :class:`Response` object.\u001b[39;00m\n\u001b[0;32m    595\u001b[0m \n\u001b[0;32m    596\u001b[0m \u001b[38;5;124;03m:param url: URL for the new :class:`Request` object.\u001b[39;00m\n\u001b[0;32m    597\u001b[0m \u001b[38;5;124;03m:param \\*\\*kwargs: Optional arguments that ``request`` takes.\u001b[39;00m\n\u001b[0;32m    598\u001b[0m \u001b[38;5;124;03m:rtype: requests.Response\u001b[39;00m\n\u001b[0;32m    599\u001b[0m \u001b[38;5;124;03m\"\"\"\u001b[39;00m\n\u001b[0;32m    601\u001b[0m kwargs\u001b[38;5;241m.\u001b[39msetdefault(\u001b[38;5;124m\"\u001b[39m\u001b[38;5;124mallow_redirects\u001b[39m\u001b[38;5;124m\"\u001b[39m, \u001b[38;5;28;01mTrue\u001b[39;00m)\n\u001b[1;32m--> 602\u001b[0m \u001b[38;5;28;01mreturn\u001b[39;00m \u001b[38;5;28mself\u001b[39m\u001b[38;5;241m.\u001b[39mrequest(\u001b[38;5;124m\"\u001b[39m\u001b[38;5;124mGET\u001b[39m\u001b[38;5;124m\"\u001b[39m, url, \u001b[38;5;241m*\u001b[39m\u001b[38;5;241m*\u001b[39mkwargs)\n",
      "File \u001b[1;32mc:\\Users\\suman\\OneDrive\\Desktop\\RAG_Chatbot_PMA\\.venv\\lib\\site-packages\\requests\\sessions.py:589\u001b[0m, in \u001b[0;36mSession.request\u001b[1;34m(self, method, url, params, data, headers, cookies, files, auth, timeout, allow_redirects, proxies, hooks, stream, verify, cert, json)\u001b[0m\n\u001b[0;32m    584\u001b[0m send_kwargs \u001b[38;5;241m=\u001b[39m {\n\u001b[0;32m    585\u001b[0m     \u001b[38;5;124m\"\u001b[39m\u001b[38;5;124mtimeout\u001b[39m\u001b[38;5;124m\"\u001b[39m: timeout,\n\u001b[0;32m    586\u001b[0m     \u001b[38;5;124m\"\u001b[39m\u001b[38;5;124mallow_redirects\u001b[39m\u001b[38;5;124m\"\u001b[39m: allow_redirects,\n\u001b[0;32m    587\u001b[0m }\n\u001b[0;32m    588\u001b[0m send_kwargs\u001b[38;5;241m.\u001b[39mupdate(settings)\n\u001b[1;32m--> 589\u001b[0m resp \u001b[38;5;241m=\u001b[39m \u001b[38;5;28mself\u001b[39m\u001b[38;5;241m.\u001b[39msend(prep, \u001b[38;5;241m*\u001b[39m\u001b[38;5;241m*\u001b[39msend_kwargs)\n\u001b[0;32m    591\u001b[0m \u001b[38;5;28;01mreturn\u001b[39;00m resp\n",
      "File \u001b[1;32mc:\\Users\\suman\\OneDrive\\Desktop\\RAG_Chatbot_PMA\\.venv\\lib\\site-packages\\requests\\sessions.py:703\u001b[0m, in \u001b[0;36mSession.send\u001b[1;34m(self, request, **kwargs)\u001b[0m\n\u001b[0;32m    700\u001b[0m start \u001b[38;5;241m=\u001b[39m preferred_clock()\n\u001b[0;32m    702\u001b[0m \u001b[38;5;66;03m# Send the request\u001b[39;00m\n\u001b[1;32m--> 703\u001b[0m r \u001b[38;5;241m=\u001b[39m adapter\u001b[38;5;241m.\u001b[39msend(request, \u001b[38;5;241m*\u001b[39m\u001b[38;5;241m*\u001b[39mkwargs)\n\u001b[0;32m    705\u001b[0m \u001b[38;5;66;03m# Total elapsed time of the request (approximately)\u001b[39;00m\n\u001b[0;32m    706\u001b[0m elapsed \u001b[38;5;241m=\u001b[39m preferred_clock() \u001b[38;5;241m-\u001b[39m start\n",
      "File \u001b[1;32mc:\\Users\\suman\\OneDrive\\Desktop\\RAG_Chatbot_PMA\\.venv\\lib\\site-packages\\requests\\adapters.py:700\u001b[0m, in \u001b[0;36mHTTPAdapter.send\u001b[1;34m(self, request, stream, timeout, verify, cert, proxies)\u001b[0m\n\u001b[0;32m    696\u001b[0m     \u001b[38;5;28;01mif\u001b[39;00m \u001b[38;5;28misinstance\u001b[39m(e\u001b[38;5;241m.\u001b[39mreason, _SSLError):\n\u001b[0;32m    697\u001b[0m         \u001b[38;5;66;03m# This branch is for urllib3 v1.22 and later.\u001b[39;00m\n\u001b[0;32m    698\u001b[0m         \u001b[38;5;28;01mraise\u001b[39;00m SSLError(e, request\u001b[38;5;241m=\u001b[39mrequest)\n\u001b[1;32m--> 700\u001b[0m     \u001b[38;5;28;01mraise\u001b[39;00m \u001b[38;5;167;01mConnectionError\u001b[39;00m(e, request\u001b[38;5;241m=\u001b[39mrequest)\n\u001b[0;32m    702\u001b[0m \u001b[38;5;28;01mexcept\u001b[39;00m ClosedPoolError \u001b[38;5;28;01mas\u001b[39;00m e:\n\u001b[0;32m    703\u001b[0m     \u001b[38;5;28;01mraise\u001b[39;00m \u001b[38;5;167;01mConnectionError\u001b[39;00m(e, request\u001b[38;5;241m=\u001b[39mrequest)\n",
      "\u001b[1;31mConnectionError\u001b[0m: HTTPSConnectionPool(host='www.youtube.com', port=443): Max retries exceeded with url: /watch?v=0qG_0CPQhpg (Caused by NameResolutionError(\"<urllib3.connection.HTTPSConnection object at 0x000002462DB666E0>: Failed to resolve 'www.youtube.com' ([Errno 11001] getaddrinfo failed)\"))"
     ]
    }
   ],
   "source": [
    "import os\n",
    "youtube_contents=[]\n",
    "from youtube_transcript_api import YouTubeTranscriptApi, TranscriptsDisabled, VideoUnavailable, VideoUnplayable\n",
    "youtube_links=extract_youtube_links(links)\n",
    "count=0\n",
    "print(len(youtube_links))\n",
    "for yt in youtube_links:\n",
    "    id=get_youtube_id(yt['url'])\n",
    "    if id:\n",
    "        count+=1\n",
    "        try:\n",
    "            transcript_list=YouTubeTranscriptApi.get_transcript(id, languages=['en'])\n",
    "            transcript=\" \".join([item['text'] for item in transcript_list])\n",
    "            youtube_contents.append(transcript)\n",
    "\n",
    "        except (VideoUnavailable, TranscriptsDisabled, VideoUnplayable) as e:\n",
    "            print(f\"Skipping video {id}: {e}\")\n",
    "        print(f\"Title: {yt['title']}, URL: {yt['url']}, ID: {id}\")\n",
    "print(count)\n"
   ]
  },
  {
   "cell_type": "code",
   "execution_count": null,
   "id": "bb3e377d",
   "metadata": {},
   "outputs": [],
   "source": [
    "from langchain_text_splitters import RecursiveCharacterTextSplitter\n",
    "\n",
    "splitter=RecursiveCharacterTextSplitter(\n",
    "    chunk_size=1000,    \n",
    "    chunk_overlap=200 \n",
    ")\n",
    "\n",
    "chunks=splitter.split_documents(all_docs)"
   ]
  },
  {
   "cell_type": "code",
   "execution_count": 22,
   "id": "3b82d643",
   "metadata": {},
   "outputs": [
    {
     "data": {
      "text/plain": [
       "54"
      ]
     },
     "execution_count": 22,
     "metadata": {},
     "output_type": "execute_result"
    }
   ],
   "source": [
    "len(chunks)"
   ]
  },
  {
   "cell_type": "code",
   "execution_count": 3,
   "id": "760ffe79",
   "metadata": {},
   "outputs": [],
   "source": [
    "from langchain_google_genai import ChatGoogleGenerativeAI\n",
    "import os\n",
    "from langchain_core.output_parsers import StrOutputParser\n",
    "from langchain.prompts import PromptTemplate\n"
   ]
  },
  {
   "cell_type": "code",
   "execution_count": null,
   "id": "b996728c",
   "metadata": {},
   "outputs": [],
   "source": [
    "GOOGLE_API_KEY=os.environ['GOOGLE_API_KEY']"
   ]
  },
  {
   "cell_type": "code",
   "execution_count": 5,
   "id": "41c1b349",
   "metadata": {},
   "outputs": [],
   "source": [
    "llm=ChatGoogleGenerativeAI(model=\"gemini-2.5-flash\", google_api_key=GOOGLE_API_KEY)"
   ]
  },
  {
   "cell_type": "code",
   "execution_count": 6,
   "id": "4db77188",
   "metadata": {},
   "outputs": [],
   "source": [
    "chat_template=PromptTemplate(\n",
    "    template='''Extract important keywords from the text given below so that the context of the text can be understood.\n",
    "                Only provide the points in comma separated format.\n",
    "                \\n\\n\n",
    "                Text : \\n{text}\n",
    "            ''',\n",
    "    input_variables=[\"text\"]\n",
    ")"
   ]
  },
  {
   "cell_type": "code",
   "execution_count": 22,
   "id": "27542291",
   "metadata": {},
   "outputs": [],
   "source": [
    "parser=StrOutputParser()"
   ]
  },
  {
   "cell_type": "code",
   "execution_count": 102,
   "id": "867a30fc",
   "metadata": {},
   "outputs": [],
   "source": [
    "chain=chat_template|llm|parser"
   ]
  },
  {
   "cell_type": "code",
   "execution_count": 103,
   "id": "2027b71d",
   "metadata": {},
   "outputs": [
    {
     "name": "stdout",
     "output_type": "stream",
     "text": [
      "49\n",
      "50\n",
      "51\n",
      "52\n",
      "53\n"
     ]
    }
   ],
   "source": [
    "for i in range(49, len(chunks)):\n",
    "    chunks[i].metadata['keywords']=chain.invoke({\"text\": chunks[i].page_content})\n",
    "    print(i)"
   ]
  },
  {
   "cell_type": "code",
   "execution_count": 104,
   "id": "3cae3daf",
   "metadata": {},
   "outputs": [
    {
     "data": {
      "text/plain": [
       "{'source': 'Documents\\\\Training For AI Engineer Interns.docx',\n",
       " 'keywords': 'Python Fundamentals, Data Manipulation, Pandas, NumPy, Connecting Python to Databases, SQLAlchemy, psycopg2, SQL database'}"
      ]
     },
     "execution_count": 104,
     "metadata": {},
     "output_type": "execute_result"
    }
   ],
   "source": [
    "chunks[53].metadata"
   ]
  },
  {
   "cell_type": "code",
   "execution_count": 106,
   "id": "df1cebc9",
   "metadata": {},
   "outputs": [],
   "source": [
    "documents=[]\n",
    "for i in range(len(chunks)):\n",
    "    documents.append({\"content\": chunks[i].page_content,\n",
    "                      \"source\":chunks[i].metadata['source'],\n",
    "                      \"keywords\":chunks[i].metadata['keywords']})"
   ]
  },
  {
   "cell_type": "code",
   "execution_count": 112,
   "id": "200cf60c",
   "metadata": {},
   "outputs": [
    {
     "data": {
      "text/plain": [
       "<pymongo.results.InsertManyResult at 0x1cce921ce40>"
      ]
     },
     "execution_count": 112,
     "metadata": {},
     "output_type": "execute_result"
    }
   ],
   "source": [
    "collection.insert_many(documents)"
   ]
  },
  {
   "cell_type": "code",
   "execution_count": 7,
   "id": "239cf5d8",
   "metadata": {},
   "outputs": [],
   "source": [
    "PINECONE_API_KEY=os.environ['PINECONE_API_KEY']"
   ]
  },
  {
   "cell_type": "code",
   "execution_count": null,
   "id": "f262dc30",
   "metadata": {},
   "outputs": [
    {
     "name": "stderr",
     "output_type": "stream",
     "text": [
      "c:\\Users\\suman\\OneDrive\\Desktop\\RAG_Chatbot_PMA\\.venv\\lib\\site-packages\\tqdm\\auto.py:21: TqdmWarning: IProgress not found. Please update jupyter and ipywidgets. See https://ipywidgets.readthedocs.io/en/stable/user_install.html\n",
      "  from .autonotebook import tqdm as notebook_tqdm\n"
     ]
    }
   ],
   "source": [
    "from pinecone import Pinecone\n",
    "\n",
    "pc=Pinecone(api_key=PINECONE_API_KEY)\n",
    "index=pc.Index(\"rag-chat-bot\")"
   ]
  },
  {
   "cell_type": "code",
   "execution_count": 12,
   "id": "5f296636",
   "metadata": {},
   "outputs": [],
   "source": [
    "from sentence_transformers import SentenceTransformer\n",
    "embedding_model=SentenceTransformer('thenlper/gte-large')"
   ]
  },
  {
   "cell_type": "code",
   "execution_count": 9,
   "id": "40ffa97b",
   "metadata": {},
   "outputs": [],
   "source": [
    "def get_result(query, similar_result=5):\n",
    "    embedding=embedding_model.encode(query)\n",
    "    embedding=embedding.tolist()\n",
    "\n",
    "    result=index.query(\n",
    "        vector=embedding,\n",
    "        top_k=similar_result,\n",
    "        include_metadata=True,\n",
    "        include_values=False\n",
    "    )\n",
    "\n",
    "    return result"
   ]
  },
  {
   "cell_type": "code",
   "execution_count": 69,
   "id": "23aab065",
   "metadata": {},
   "outputs": [],
   "source": [
    "query=\"What are the resources to learn about bias and variance of Machine Learning?\""
   ]
  },
  {
   "cell_type": "code",
   "execution_count": 70,
   "id": "05c97db2",
   "metadata": {},
   "outputs": [],
   "source": [
    "result=get_result(query)"
   ]
  },
  {
   "cell_type": "code",
   "execution_count": 71,
   "id": "1d295853",
   "metadata": {},
   "outputs": [
    {
     "data": {
      "text/plain": [
       "{'matches': [{'id': '68700534bc7cf06ff58aa9ab',\n",
       "              'score': 0.871542454,\n",
       "              'values': []},\n",
       "             {'id': '68700534bc7cf06ff58aa9ac',\n",
       "              'score': 0.84136349,\n",
       "              'values': []},\n",
       "             {'id': '68700534bc7cf06ff58aa982',\n",
       "              'score': 0.837415814,\n",
       "              'values': []},\n",
       "             {'id': '68700534bc7cf06ff58aa9ad',\n",
       "              'score': 0.833752096,\n",
       "              'values': []},\n",
       "             {'id': '68700534bc7cf06ff58aa983',\n",
       "              'score': 0.832091451,\n",
       "              'values': []}],\n",
       " 'namespace': '',\n",
       " 'usage': {'read_units': 1}}"
      ]
     },
     "execution_count": 71,
     "metadata": {},
     "output_type": "execute_result"
    }
   ],
   "source": [
    "result"
   ]
  },
  {
   "cell_type": "code",
   "execution_count": 72,
   "id": "a06094f3",
   "metadata": {},
   "outputs": [],
   "source": [
    "from bson.objectid import ObjectId"
   ]
  },
  {
   "cell_type": "code",
   "execution_count": null,
   "id": "ef185759",
   "metadata": {},
   "outputs": [],
   "source": [
    "mylist=[]\n",
    "for i in range(len(result['matches'])):\n",
    "    value=result['matches'][i]['id']\n",
    "    mylist.append(collection.find_one({\"_id\": ObjectId(value)}))"
   ]
  },
  {
   "cell_type": "code",
   "execution_count": 74,
   "id": "3cbf55af",
   "metadata": {},
   "outputs": [
    {
     "data": {
      "text/plain": [
       "[{'_id': ObjectId('68700534bc7cf06ff58aa9ab'),\n",
       "  'content': '[Docker for DataScientists ](https://www.youtube.com/watch?v=0qG_0CPQhpg) \\n\\nAdvanced AI Concepts\\n\\n[Machine Learning Master](https://machinelearningmastery.com/)  = Great source for complex concepts\\n\\nOverfitting and underfitting \\n\\n[Underfitting & Overfitting - Explained](https://youtu.be/o3DztvnfAJg) \\n\\n[Machine Learning Fundamentals: Bias and Variance](https://youtu.be/EuBBz3bI-aA) \\n\\nMLOps [What is MLOps?](https://youtu.be/OejCJL2EC3k) \\n\\n[MLOPS ZoomCamp ](https://github.com/DataTalksClub/mlops-zoomcamp) : 9-Week Course on Productionizing ML Services\\n\\nFeature Engineering [What is Feature Engineering?](https://youtu.be/AnZWCB1gpfE) \\n\\nHyperparameter Tunning [Parameters vs hyperparameters in machine learning](https://youtu.be/V4AcLJ2cgmU) \\n\\nModel Deployment [Machine Learning Model Deployment Explained | All About ML Model Deployment](https://youtu.be/SHyFjJ-tIJE) \\n\\nFraming the AI task',\n",
       "  'source': 'Documents\\\\Training For AI Engineer Interns.docx',\n",
       "  'keywords': 'Docker, Data Science, AI, Machine Learning, Overfitting, Underfitting, Bias, Variance, MLOps, Feature Engineering, Hyperparameter Tuning, Model Deployment'},\n",
       " {'_id': ObjectId('68700534bc7cf06ff58aa9ac'),\n",
       "  'content': 'Model Deployment [Machine Learning Model Deployment Explained | All About ML Model Deployment](https://youtu.be/SHyFjJ-tIJE) \\n\\nFraming the AI task\\n\\nData cleaning in production time [https://youtu.be/P8ERBy91Y90?si=yZ37-ScTbjtK4Af](https://youtu.be/P8ERBy91Y90?si=yZ37-ScTbjtK4AfL) \\n\\nSampling Frequency\\n\\nSupervised: Classification, Prediction, Regression, Recommendation, Named Entity Recognition (NER), Speech Recognition, Object Detection, Segmentation\\n\\n[Image classification vs Object detection vs Image Segmentation | Deep Learning Tutorial 28](https://youtu.be/taC5pMCm70U) \\n\\n[Natural Language Processing In 5 Minutes | What Is NLP And How Does It Work? | Simplilearn](https://youtu.be/CMrHM8a3hqw) \\n\\nUnsupervised: Clustering, Dimensionality Reduction\\n\\n[Dimensionality Reduction](https://youtu.be/3uxOyk-SczU) \\n\\n[Machine Learning - Dimensionality Reduction - Feature Extraction & Selection](https://youtu.be/AU_hBML2H1c) \\n\\nReinforcement Learning',\n",
       "  'source': 'Documents\\\\Training For AI Engineer Interns.docx',\n",
       "  'keywords': 'Machine Learning Model Deployment, AI task, Data cleaning, Sampling Frequency, Supervised Learning, Classification, Prediction, Regression, Recommendation, Named Entity Recognition (NER), Speech Recognition, Object Detection, Segmentation, Image classification, Natural Language Processing (NLP), Unsupervised Learning, Clustering, Dimensionality Reduction, Reinforcement Learning'},\n",
       " {'_id': ObjectId('68700534bc7cf06ff58aa982'),\n",
       "  'content': \"Fine-tuning strategies\\n\\nModel Evaluation (2 hours)\\n\\nMetrics\\n\\nValidation strategies\\n\\nCommon pitfalls\\n\\nDay 3: Hands-on Practice\\n\\nPyTorch basics (2 hours)\\n\\nModel training workshop (2 hours)\\n\\nResources:\\n\\nTransformers Illustrated\\n\\n[The Illustrated Transformer – Jay Alammar](https://jalammar.github.io/illustrated-transformer/) \\n\\nAndrej Karpathy's Neural Networks Zero to Hero\\n\\n[Neural Networks: Zero to Hero - YouTube](https://www.youtube.com/playlist?list=PLAqhIrjkxbuWI23v9cThsA9GvCAUhRvKZ) \\n\\nHuggingFace Course\\n\\n[Introduction - Hugging Face NLP Course](https://huggingface.co/learn/nlp-course/chapter1/1) \\n\\nGen AI & Data Engineering (4 Days)\\n\\n[Generative AI for Beginners | Microsoft Learn](https://learn.microsoft.com/en-us/shows/generative-ai-for-beginners/) \\n\\nDay 1-2: LLM Fundamentals\\n\\nLLM architectures\\n\\nPrompt engineering\\n\\nContext length and limitations\\n\\nRAG (Retrieval Augmented Generation)\\n\\nVector databases\\n\\nDay 3: Data Engineering\\n\\nData preprocessing\\n\\nText chunking strategies\",\n",
       "  'source': 'Documents\\\\AI Bootcamp Journey & Learning Path.docx',\n",
       "  'keywords': 'Fine-tuning, Model Evaluation, Metrics, Validation strategies, PyTorch, Model training, Transformers, Neural Networks, HuggingFace, Gen AI, Data Engineering, LLM Fundamentals, LLM architectures, Prompt engineering, Context length, RAG, Vector databases, Data preprocessing, Text chunking strategies'},\n",
       " {'_id': ObjectId('68700534bc7cf06ff58aa9ad'),\n",
       "  'content': '[Dimensionality Reduction](https://youtu.be/3uxOyk-SczU) \\n\\n[Machine Learning - Dimensionality Reduction - Feature Extraction & Selection](https://youtu.be/AU_hBML2H1c) \\n\\nReinforcement Learning\\n\\n[OpenAI Plays Hide and Seek…and Breaks The Game! 🤖](https://youtu.be/Lu56xVlZ40M) \\n\\nGenerative Models\\n\\n[What are GANs (Generative Adversarial Networks)?](https://youtu.be/TpMIssRdhco) \\n\\nAnomaly Detection\\n\\nRLHF (Reinforced Learning with Human Feedback)\\n\\n[Basic explanation](https://youtu.be/dCelRItdGfc) \\n\\nIf you need to go deeper, [this course](https://www.deeplearning.ai/courses/generative-ai-with-llms/)  is the best\\n\\nModel Distillation\\n\\n[Distilling Neural Networks | Two Minute Papers #218](https://youtu.be/zjaz2mC1KhM) \\n\\n[Quantization vs Pruning vs Distillation: Optimizing NNs for Inference](https://youtu.be/UcwDgsMgTu4) \\n\\nSelf-hosting LLMs\\n\\n[All You Need To Know About Running LLMs Locally](https://youtu.be/XwL_cRuXM2E?si=vtmA2i40VMhZiBuN) \\n\\nFine-tuning',\n",
       "  'source': 'Documents\\\\Training For AI Engineer Interns.docx',\n",
       "  'keywords': 'Dimensionality Reduction, Machine Learning, Feature Extraction, Feature Selection, Reinforcement Learning, Generative Models, GANs, Anomaly Detection, RLHF, Model Distillation, Self-hosting LLMs, Fine-tuning'},\n",
       " {'_id': ObjectId('68700534bc7cf06ff58aa983'),\n",
       "  'content': 'LLM architectures\\n\\nPrompt engineering\\n\\nContext length and limitations\\n\\nRAG (Retrieval Augmented Generation)\\n\\nVector databases\\n\\nDay 3: Data Engineering\\n\\nData preprocessing\\n\\nText chunking strategies\\n\\nEmbedding models\\n\\nVector similarity search\\n\\nData quality and validation\\n\\nDay 4: Integration\\n\\nAPI integration (OpenAI, Anthropic)\\n\\nStreaming responses\\n\\nError handling\\n\\nCost optimization\\n\\nPractical Exercises:\\n\\nBuild a simple chatbot\\n\\nImplement RAG system\\n\\nCreate custom training dataset\\n\\nResources:\\n\\nLangChain Documentation\\n\\n[Tutorials | 🦜️🔗 LangChain](https://python.langchain.com/docs/tutorials/) \\n\\nOpenAI Cookbook\\n\\n[GitHub - openai/openai-cookbook: Examples and guides for using the OpenAI API](https://github.com/openai/openai-cookbook) \\n\\nVector Database Fundamentals\\n\\n[What is a Vector Database & How Does it Work? Use Cases + Examples | Pinecone](https://www.pinecone.io/learn/vector-database/) \\n\\nMLOps & Deployment (3 Days)\\n\\nDay 1: Development Practices\\n\\nGit workflow\\n\\nCode review process',\n",
       "  'source': 'Documents\\\\AI Bootcamp Journey & Learning Path.docx',\n",
       "  'keywords': 'LLM architectures, prompt engineering, context length limitations, RAG, vector databases, data engineering, data preprocessing, text chunking, embedding models, vector similarity search, data quality, API integration, streaming responses, error handling, cost optimization, chatbot, custom training dataset, LangChain, OpenAI API, vector database fundamentals, MLOps, Git workflow, code review'}]"
      ]
     },
     "execution_count": 74,
     "metadata": {},
     "output_type": "execute_result"
    }
   ],
   "source": [
    "mylist"
   ]
  },
  {
   "cell_type": "code",
   "execution_count": 75,
   "id": "ec01414d",
   "metadata": {},
   "outputs": [],
   "source": [
    "combined_information=\"\"\n",
    "for i in range(len(mylist)):\n",
    "    content=mylist[i][\"content\"]\n",
    "    keywords=mylist[i][\"keywords\"]\n",
    "    combined_information+=f\"Content: {content},\\nKeywords: {keywords}\\n\""
   ]
  },
  {
   "cell_type": "code",
   "execution_count": 76,
   "id": "47b07547",
   "metadata": {},
   "outputs": [
    {
     "name": "stdout",
     "output_type": "stream",
     "text": [
      "Content: [Docker for DataScientists ](https://www.youtube.com/watch?v=0qG_0CPQhpg) \n",
      "\n",
      "Advanced AI Concepts\n",
      "\n",
      "[Machine Learning Master](https://machinelearningmastery.com/)  = Great source for complex concepts\n",
      "\n",
      "Overfitting and underfitting \n",
      "\n",
      "[Underfitting & Overfitting - Explained](https://youtu.be/o3DztvnfAJg) \n",
      "\n",
      "[Machine Learning Fundamentals: Bias and Variance](https://youtu.be/EuBBz3bI-aA) \n",
      "\n",
      "MLOps [What is MLOps?](https://youtu.be/OejCJL2EC3k) \n",
      "\n",
      "[MLOPS ZoomCamp ](https://github.com/DataTalksClub/mlops-zoomcamp) : 9-Week Course on Productionizing ML Services\n",
      "\n",
      "Feature Engineering [What is Feature Engineering?](https://youtu.be/AnZWCB1gpfE) \n",
      "\n",
      "Hyperparameter Tunning [Parameters vs hyperparameters in machine learning](https://youtu.be/V4AcLJ2cgmU) \n",
      "\n",
      "Model Deployment [Machine Learning Model Deployment Explained | All About ML Model Deployment](https://youtu.be/SHyFjJ-tIJE) \n",
      "\n",
      "Framing the AI task,\n",
      "Keywords: Docker, Data Science, AI, Machine Learning, Overfitting, Underfitting, Bias, Variance, MLOps, Feature Engineering, Hyperparameter Tuning, Model Deployment\n",
      "Content: Model Deployment [Machine Learning Model Deployment Explained | All About ML Model Deployment](https://youtu.be/SHyFjJ-tIJE) \n",
      "\n",
      "Framing the AI task\n",
      "\n",
      "Data cleaning in production time [https://youtu.be/P8ERBy91Y90?si=yZ37-ScTbjtK4Af](https://youtu.be/P8ERBy91Y90?si=yZ37-ScTbjtK4AfL) \n",
      "\n",
      "Sampling Frequency\n",
      "\n",
      "Supervised: Classification, Prediction, Regression, Recommendation, Named Entity Recognition (NER), Speech Recognition, Object Detection, Segmentation\n",
      "\n",
      "[Image classification vs Object detection vs Image Segmentation | Deep Learning Tutorial 28](https://youtu.be/taC5pMCm70U) \n",
      "\n",
      "[Natural Language Processing In 5 Minutes | What Is NLP And How Does It Work? | Simplilearn](https://youtu.be/CMrHM8a3hqw) \n",
      "\n",
      "Unsupervised: Clustering, Dimensionality Reduction\n",
      "\n",
      "[Dimensionality Reduction](https://youtu.be/3uxOyk-SczU) \n",
      "\n",
      "[Machine Learning - Dimensionality Reduction - Feature Extraction & Selection](https://youtu.be/AU_hBML2H1c) \n",
      "\n",
      "Reinforcement Learning,\n",
      "Keywords: Machine Learning Model Deployment, AI task, Data cleaning, Sampling Frequency, Supervised Learning, Classification, Prediction, Regression, Recommendation, Named Entity Recognition (NER), Speech Recognition, Object Detection, Segmentation, Image classification, Natural Language Processing (NLP), Unsupervised Learning, Clustering, Dimensionality Reduction, Reinforcement Learning\n",
      "Content: Fine-tuning strategies\n",
      "\n",
      "Model Evaluation (2 hours)\n",
      "\n",
      "Metrics\n",
      "\n",
      "Validation strategies\n",
      "\n",
      "Common pitfalls\n",
      "\n",
      "Day 3: Hands-on Practice\n",
      "\n",
      "PyTorch basics (2 hours)\n",
      "\n",
      "Model training workshop (2 hours)\n",
      "\n",
      "Resources:\n",
      "\n",
      "Transformers Illustrated\n",
      "\n",
      "[The Illustrated Transformer – Jay Alammar](https://jalammar.github.io/illustrated-transformer/) \n",
      "\n",
      "Andrej Karpathy's Neural Networks Zero to Hero\n",
      "\n",
      "[Neural Networks: Zero to Hero - YouTube](https://www.youtube.com/playlist?list=PLAqhIrjkxbuWI23v9cThsA9GvCAUhRvKZ) \n",
      "\n",
      "HuggingFace Course\n",
      "\n",
      "[Introduction - Hugging Face NLP Course](https://huggingface.co/learn/nlp-course/chapter1/1) \n",
      "\n",
      "Gen AI & Data Engineering (4 Days)\n",
      "\n",
      "[Generative AI for Beginners | Microsoft Learn](https://learn.microsoft.com/en-us/shows/generative-ai-for-beginners/) \n",
      "\n",
      "Day 1-2: LLM Fundamentals\n",
      "\n",
      "LLM architectures\n",
      "\n",
      "Prompt engineering\n",
      "\n",
      "Context length and limitations\n",
      "\n",
      "RAG (Retrieval Augmented Generation)\n",
      "\n",
      "Vector databases\n",
      "\n",
      "Day 3: Data Engineering\n",
      "\n",
      "Data preprocessing\n",
      "\n",
      "Text chunking strategies,\n",
      "Keywords: Fine-tuning, Model Evaluation, Metrics, Validation strategies, PyTorch, Model training, Transformers, Neural Networks, HuggingFace, Gen AI, Data Engineering, LLM Fundamentals, LLM architectures, Prompt engineering, Context length, RAG, Vector databases, Data preprocessing, Text chunking strategies\n",
      "Content: [Dimensionality Reduction](https://youtu.be/3uxOyk-SczU) \n",
      "\n",
      "[Machine Learning - Dimensionality Reduction - Feature Extraction & Selection](https://youtu.be/AU_hBML2H1c) \n",
      "\n",
      "Reinforcement Learning\n",
      "\n",
      "[OpenAI Plays Hide and Seek…and Breaks The Game! 🤖](https://youtu.be/Lu56xVlZ40M) \n",
      "\n",
      "Generative Models\n",
      "\n",
      "[What are GANs (Generative Adversarial Networks)?](https://youtu.be/TpMIssRdhco) \n",
      "\n",
      "Anomaly Detection\n",
      "\n",
      "RLHF (Reinforced Learning with Human Feedback)\n",
      "\n",
      "[Basic explanation](https://youtu.be/dCelRItdGfc) \n",
      "\n",
      "If you need to go deeper, [this course](https://www.deeplearning.ai/courses/generative-ai-with-llms/)  is the best\n",
      "\n",
      "Model Distillation\n",
      "\n",
      "[Distilling Neural Networks | Two Minute Papers #218](https://youtu.be/zjaz2mC1KhM) \n",
      "\n",
      "[Quantization vs Pruning vs Distillation: Optimizing NNs for Inference](https://youtu.be/UcwDgsMgTu4) \n",
      "\n",
      "Self-hosting LLMs\n",
      "\n",
      "[All You Need To Know About Running LLMs Locally](https://youtu.be/XwL_cRuXM2E?si=vtmA2i40VMhZiBuN) \n",
      "\n",
      "Fine-tuning,\n",
      "Keywords: Dimensionality Reduction, Machine Learning, Feature Extraction, Feature Selection, Reinforcement Learning, Generative Models, GANs, Anomaly Detection, RLHF, Model Distillation, Self-hosting LLMs, Fine-tuning\n",
      "Content: LLM architectures\n",
      "\n",
      "Prompt engineering\n",
      "\n",
      "Context length and limitations\n",
      "\n",
      "RAG (Retrieval Augmented Generation)\n",
      "\n",
      "Vector databases\n",
      "\n",
      "Day 3: Data Engineering\n",
      "\n",
      "Data preprocessing\n",
      "\n",
      "Text chunking strategies\n",
      "\n",
      "Embedding models\n",
      "\n",
      "Vector similarity search\n",
      "\n",
      "Data quality and validation\n",
      "\n",
      "Day 4: Integration\n",
      "\n",
      "API integration (OpenAI, Anthropic)\n",
      "\n",
      "Streaming responses\n",
      "\n",
      "Error handling\n",
      "\n",
      "Cost optimization\n",
      "\n",
      "Practical Exercises:\n",
      "\n",
      "Build a simple chatbot\n",
      "\n",
      "Implement RAG system\n",
      "\n",
      "Create custom training dataset\n",
      "\n",
      "Resources:\n",
      "\n",
      "LangChain Documentation\n",
      "\n",
      "[Tutorials | 🦜️🔗 LangChain](https://python.langchain.com/docs/tutorials/) \n",
      "\n",
      "OpenAI Cookbook\n",
      "\n",
      "[GitHub - openai/openai-cookbook: Examples and guides for using the OpenAI API](https://github.com/openai/openai-cookbook) \n",
      "\n",
      "Vector Database Fundamentals\n",
      "\n",
      "[What is a Vector Database & How Does it Work? Use Cases + Examples | Pinecone](https://www.pinecone.io/learn/vector-database/) \n",
      "\n",
      "MLOps & Deployment (3 Days)\n",
      "\n",
      "Day 1: Development Practices\n",
      "\n",
      "Git workflow\n",
      "\n",
      "Code review process,\n",
      "Keywords: LLM architectures, prompt engineering, context length limitations, RAG, vector databases, data engineering, data preprocessing, text chunking, embedding models, vector similarity search, data quality, API integration, streaming responses, error handling, cost optimization, chatbot, custom training dataset, LangChain, OpenAI API, vector database fundamentals, MLOps, Git workflow, code review\n",
      "\n"
     ]
    }
   ],
   "source": [
    "print(combined_information)"
   ]
  }
 ],
 "metadata": {
  "kernelspec": {
   "display_name": ".venv",
   "language": "python",
   "name": "python3"
  },
  "language_info": {
   "codemirror_mode": {
    "name": "ipython",
    "version": 3
   },
   "file_extension": ".py",
   "mimetype": "text/x-python",
   "name": "python",
   "nbconvert_exporter": "python",
   "pygments_lexer": "ipython3",
   "version": "3.10.11"
  }
 },
 "nbformat": 4,
 "nbformat_minor": 5
}
